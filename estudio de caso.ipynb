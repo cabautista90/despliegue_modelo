{
 "cells": [
  {
   "cell_type": "markdown",
   "id": "8801bfe7-f8cd-4e49-b699-33560ce7101c",
   "metadata": {
    "id": "8801bfe7-f8cd-4e49-b699-33560ce7101c"
   },
   "source": [
    "## **IMPORTAR LIBRERIAS**"
   ]
  },
  {
   "cell_type": "code",
   "execution_count": 1,
   "id": "e9e539c4-0481-4ebe-8d89-1cc854100723",
   "metadata": {
    "id": "e9e539c4-0481-4ebe-8d89-1cc854100723"
   },
   "outputs": [
    {
     "name": "stderr",
     "output_type": "stream",
     "text": [
      "2024-08-21 23:16:41.638446: I tensorflow/core/platform/cpu_feature_guard.cc:210] This TensorFlow binary is optimized to use available CPU instructions in performance-critical operations.\n",
      "To enable the following instructions: AVX2 FMA, in other operations, rebuild TensorFlow with the appropriate compiler flags.\n"
     ]
    }
   ],
   "source": [
    "import tensorflow as tf\n",
    "import numpy as np\n",
    "import pandas as pd\n",
    "import seaborn as sns\n",
    "import matplotlib.pyplot as plt\n",
    "from sklearn.model_selection import train_test_split\n",
    "from sklearn.metrics import classification_report, confusion_matrix, ConfusionMatrixDisplay\n",
    "from keras.models import Sequential\n",
    "from keras.layers import Dense, Input\n",
    "from flask import Flask, request, jsonify\n",
    "import joblib\n",
    "from tensorflow.keras.models import Sequential\n",
    "from tensorflow.keras.layers import Dense\n",
    "from sklearn.preprocessing import StandardScaler\n",
    "from sklearn.metrics import accuracy_score\n",
    "import os\n",
    "from collections.abc import Sequence\n"
   ]
  },
  {
   "cell_type": "markdown",
   "id": "e149046c-dd86-409f-9aad-afbbe24c702d",
   "metadata": {
    "id": "e149046c-dd86-409f-9aad-afbbe24c702d"
   },
   "source": [
    "## ** Realiza un análisis exploratorio para entender la estructura y contenido de los datos**"
   ]
  },
  {
   "cell_type": "code",
   "execution_count": 10,
   "id": "097ab5b7-029d-49cf-b308-4eee344e62cd",
   "metadata": {
    "id": "097ab5b7-029d-49cf-b308-4eee344e62cd"
   },
   "outputs": [],
   "source": [
    "#carga  archivo data_proyecto.csv en un DataFrame de pandas\n",
    "data = pd.read_csv (\"../estudio_caso_IA/data_proyecto.csv\")"
   ]
  },
  {
   "cell_type": "code",
   "execution_count": 11,
   "id": "9f19c468-9eb0-4aa5-bef1-7edaa9d42fdb",
   "metadata": {
    "colab": {
     "base_uri": "https://localhost:8080/"
    },
    "id": "9f19c468-9eb0-4aa5-bef1-7edaa9d42fdb",
    "outputId": "084a8c06-fb5f-42f3-d654-bb756647623a",
    "scrolled": true
   },
   "outputs": [
    {
     "name": "stdout",
     "output_type": "stream",
     "text": [
      "<class 'pandas.core.frame.DataFrame'>\n",
      "RangeIndex: 48841 entries, 0 to 48840\n",
      "Data columns (total 15 columns):\n",
      " #   Column         Non-Null Count  Dtype \n",
      "---  ------         --------------  ----- \n",
      " 0   39             48841 non-null  int64 \n",
      " 1   State-gov      48841 non-null  object\n",
      " 2   77516          48841 non-null  int64 \n",
      " 3   Bachelors      48841 non-null  object\n",
      " 4   13             48841 non-null  int64 \n",
      " 5   Never-married  48841 non-null  object\n",
      " 6   Adm-clerical   48841 non-null  object\n",
      " 7   Not-in-family  48841 non-null  object\n",
      " 8   White          48841 non-null  object\n",
      " 9   Male           48841 non-null  object\n",
      " 10  2174           48841 non-null  int64 \n",
      " 11  0              48841 non-null  int64 \n",
      " 12  40             48841 non-null  int64 \n",
      " 13  United-States  48841 non-null  object\n",
      " 14  <=50K          48841 non-null  object\n",
      "dtypes: int64(6), object(9)\n",
      "memory usage: 5.6+ MB\n"
     ]
    }
   ],
   "source": [
    "data.info()"
   ]
  },
  {
   "cell_type": "code",
   "execution_count": 12,
   "id": "3b6cad8c-6c45-4e19-9644-308f54475233",
   "metadata": {
    "colab": {
     "base_uri": "https://localhost:8080/",
     "height": 300
    },
    "id": "3b6cad8c-6c45-4e19-9644-308f54475233",
    "outputId": "d5b24f5c-3d79-4cb2-9d18-5633635b485e"
   },
   "outputs": [
    {
     "data": {
      "text/html": [
       "<div>\n",
       "<style scoped>\n",
       "    .dataframe tbody tr th:only-of-type {\n",
       "        vertical-align: middle;\n",
       "    }\n",
       "\n",
       "    .dataframe tbody tr th {\n",
       "        vertical-align: top;\n",
       "    }\n",
       "\n",
       "    .dataframe thead th {\n",
       "        text-align: right;\n",
       "    }\n",
       "</style>\n",
       "<table border=\"1\" class=\"dataframe\">\n",
       "  <thead>\n",
       "    <tr style=\"text-align: right;\">\n",
       "      <th></th>\n",
       "      <th>39</th>\n",
       "      <th>77516</th>\n",
       "      <th>13</th>\n",
       "      <th>2174</th>\n",
       "      <th>0</th>\n",
       "      <th>40</th>\n",
       "    </tr>\n",
       "  </thead>\n",
       "  <tbody>\n",
       "    <tr>\n",
       "      <th>count</th>\n",
       "      <td>48841.000000</td>\n",
       "      <td>4.884100e+04</td>\n",
       "      <td>48841.000000</td>\n",
       "      <td>48841.000000</td>\n",
       "      <td>48841.000000</td>\n",
       "      <td>48841.000000</td>\n",
       "    </tr>\n",
       "    <tr>\n",
       "      <th>mean</th>\n",
       "      <td>38.643578</td>\n",
       "      <td>1.896664e+05</td>\n",
       "      <td>10.078029</td>\n",
       "      <td>1079.045208</td>\n",
       "      <td>87.504105</td>\n",
       "      <td>40.422391</td>\n",
       "    </tr>\n",
       "    <tr>\n",
       "      <th>std</th>\n",
       "      <td>13.710650</td>\n",
       "      <td>1.056039e+05</td>\n",
       "      <td>2.570965</td>\n",
       "      <td>7452.093700</td>\n",
       "      <td>403.008483</td>\n",
       "      <td>12.391571</td>\n",
       "    </tr>\n",
       "    <tr>\n",
       "      <th>min</th>\n",
       "      <td>17.000000</td>\n",
       "      <td>1.228500e+04</td>\n",
       "      <td>1.000000</td>\n",
       "      <td>0.000000</td>\n",
       "      <td>0.000000</td>\n",
       "      <td>1.000000</td>\n",
       "    </tr>\n",
       "    <tr>\n",
       "      <th>25%</th>\n",
       "      <td>28.000000</td>\n",
       "      <td>1.175550e+05</td>\n",
       "      <td>9.000000</td>\n",
       "      <td>0.000000</td>\n",
       "      <td>0.000000</td>\n",
       "      <td>40.000000</td>\n",
       "    </tr>\n",
       "    <tr>\n",
       "      <th>50%</th>\n",
       "      <td>37.000000</td>\n",
       "      <td>1.781470e+05</td>\n",
       "      <td>10.000000</td>\n",
       "      <td>0.000000</td>\n",
       "      <td>0.000000</td>\n",
       "      <td>40.000000</td>\n",
       "    </tr>\n",
       "    <tr>\n",
       "      <th>75%</th>\n",
       "      <td>48.000000</td>\n",
       "      <td>2.376460e+05</td>\n",
       "      <td>12.000000</td>\n",
       "      <td>0.000000</td>\n",
       "      <td>0.000000</td>\n",
       "      <td>45.000000</td>\n",
       "    </tr>\n",
       "    <tr>\n",
       "      <th>max</th>\n",
       "      <td>90.000000</td>\n",
       "      <td>1.490400e+06</td>\n",
       "      <td>16.000000</td>\n",
       "      <td>99999.000000</td>\n",
       "      <td>4356.000000</td>\n",
       "      <td>99.000000</td>\n",
       "    </tr>\n",
       "  </tbody>\n",
       "</table>\n",
       "</div>"
      ],
      "text/plain": [
       "                 39         77516            13          2174             0  \\\n",
       "count  48841.000000  4.884100e+04  48841.000000  48841.000000  48841.000000   \n",
       "mean      38.643578  1.896664e+05     10.078029   1079.045208     87.504105   \n",
       "std       13.710650  1.056039e+05      2.570965   7452.093700    403.008483   \n",
       "min       17.000000  1.228500e+04      1.000000      0.000000      0.000000   \n",
       "25%       28.000000  1.175550e+05      9.000000      0.000000      0.000000   \n",
       "50%       37.000000  1.781470e+05     10.000000      0.000000      0.000000   \n",
       "75%       48.000000  2.376460e+05     12.000000      0.000000      0.000000   \n",
       "max       90.000000  1.490400e+06     16.000000  99999.000000   4356.000000   \n",
       "\n",
       "                 40  \n",
       "count  48841.000000  \n",
       "mean      40.422391  \n",
       "std       12.391571  \n",
       "min        1.000000  \n",
       "25%       40.000000  \n",
       "50%       40.000000  \n",
       "75%       45.000000  \n",
       "max       99.000000  "
      ]
     },
     "execution_count": 12,
     "metadata": {},
     "output_type": "execute_result"
    }
   ],
   "source": [
    "data.describe()"
   ]
  },
  {
   "cell_type": "code",
   "execution_count": 13,
   "id": "410e67b4-039b-4349-a033-24a437debd52",
   "metadata": {
    "colab": {
     "base_uri": "https://localhost:8080/",
     "height": 248
    },
    "id": "410e67b4-039b-4349-a033-24a437debd52",
    "outputId": "bbe220bc-8639-4ff0-80cd-6a64c057f8c5"
   },
   "outputs": [
    {
     "data": {
      "text/html": [
       "<div>\n",
       "<style scoped>\n",
       "    .dataframe tbody tr th:only-of-type {\n",
       "        vertical-align: middle;\n",
       "    }\n",
       "\n",
       "    .dataframe tbody tr th {\n",
       "        vertical-align: top;\n",
       "    }\n",
       "\n",
       "    .dataframe thead th {\n",
       "        text-align: right;\n",
       "    }\n",
       "</style>\n",
       "<table border=\"1\" class=\"dataframe\">\n",
       "  <thead>\n",
       "    <tr style=\"text-align: right;\">\n",
       "      <th></th>\n",
       "      <th>39</th>\n",
       "      <th>State-gov</th>\n",
       "      <th>77516</th>\n",
       "      <th>Bachelors</th>\n",
       "      <th>13</th>\n",
       "      <th>Never-married</th>\n",
       "      <th>Adm-clerical</th>\n",
       "      <th>Not-in-family</th>\n",
       "      <th>White</th>\n",
       "      <th>Male</th>\n",
       "      <th>2174</th>\n",
       "      <th>0</th>\n",
       "      <th>40</th>\n",
       "      <th>United-States</th>\n",
       "      <th>&lt;=50K</th>\n",
       "    </tr>\n",
       "  </thead>\n",
       "  <tbody>\n",
       "    <tr>\n",
       "      <th>0</th>\n",
       "      <td>50</td>\n",
       "      <td>Self-emp-not-inc</td>\n",
       "      <td>83311</td>\n",
       "      <td>Bachelors</td>\n",
       "      <td>13</td>\n",
       "      <td>Married-civ-spouse</td>\n",
       "      <td>Exec-managerial</td>\n",
       "      <td>Husband</td>\n",
       "      <td>White</td>\n",
       "      <td>Male</td>\n",
       "      <td>0</td>\n",
       "      <td>0</td>\n",
       "      <td>13</td>\n",
       "      <td>United-States</td>\n",
       "      <td>&lt;=50K</td>\n",
       "    </tr>\n",
       "    <tr>\n",
       "      <th>1</th>\n",
       "      <td>38</td>\n",
       "      <td>Private</td>\n",
       "      <td>215646</td>\n",
       "      <td>HS-grad</td>\n",
       "      <td>9</td>\n",
       "      <td>Divorced</td>\n",
       "      <td>Handlers-cleaners</td>\n",
       "      <td>Not-in-family</td>\n",
       "      <td>White</td>\n",
       "      <td>Male</td>\n",
       "      <td>0</td>\n",
       "      <td>0</td>\n",
       "      <td>40</td>\n",
       "      <td>United-States</td>\n",
       "      <td>&lt;=50K</td>\n",
       "    </tr>\n",
       "    <tr>\n",
       "      <th>2</th>\n",
       "      <td>53</td>\n",
       "      <td>Private</td>\n",
       "      <td>234721</td>\n",
       "      <td>11th</td>\n",
       "      <td>7</td>\n",
       "      <td>Married-civ-spouse</td>\n",
       "      <td>Handlers-cleaners</td>\n",
       "      <td>Husband</td>\n",
       "      <td>Black</td>\n",
       "      <td>Male</td>\n",
       "      <td>0</td>\n",
       "      <td>0</td>\n",
       "      <td>40</td>\n",
       "      <td>United-States</td>\n",
       "      <td>&lt;=50K</td>\n",
       "    </tr>\n",
       "  </tbody>\n",
       "</table>\n",
       "</div>"
      ],
      "text/plain": [
       "   39         State-gov   77516  Bachelors  13       Never-married  \\\n",
       "0  50  Self-emp-not-inc   83311  Bachelors  13  Married-civ-spouse   \n",
       "1  38           Private  215646    HS-grad   9            Divorced   \n",
       "2  53           Private  234721       11th   7  Married-civ-spouse   \n",
       "\n",
       "        Adm-clerical  Not-in-family  White  Male  2174  0  40  United-States  \\\n",
       "0    Exec-managerial        Husband  White  Male     0  0  13  United-States   \n",
       "1  Handlers-cleaners  Not-in-family  White  Male     0  0  40  United-States   \n",
       "2  Handlers-cleaners        Husband  Black  Male     0  0  40  United-States   \n",
       "\n",
       "   <=50K  \n",
       "0  <=50K  \n",
       "1  <=50K  \n",
       "2  <=50K  "
      ]
     },
     "execution_count": 13,
     "metadata": {},
     "output_type": "execute_result"
    }
   ],
   "source": [
    "data.head(3)"
   ]
  },
  {
   "cell_type": "code",
   "execution_count": 14,
   "id": "vZUvc2sYXvxQ",
   "metadata": {
    "id": "vZUvc2sYXvxQ"
   },
   "outputs": [],
   "source": [
    "# Asignar nombres a las columnas\n",
    "data.columns = ['age', 'workclass', 'fnlwgt', 'education', 'education-num',\n",
    "                'marital-status', 'occupation', 'relationship', 'race', 'sex',\n",
    "                'capital-gain', 'capital-loss', 'hours-per-week', 'country', 'salary']"
   ]
  },
  {
   "cell_type": "code",
   "execution_count": 15,
   "id": "ETm8CCKAXxU0",
   "metadata": {
    "colab": {
     "base_uri": "https://localhost:8080/",
     "height": 417
    },
    "id": "ETm8CCKAXxU0",
    "outputId": "19a4540d-34fd-49b4-e26b-601a106bba6d"
   },
   "outputs": [
    {
     "data": {
      "text/html": [
       "<div>\n",
       "<style scoped>\n",
       "    .dataframe tbody tr th:only-of-type {\n",
       "        vertical-align: middle;\n",
       "    }\n",
       "\n",
       "    .dataframe tbody tr th {\n",
       "        vertical-align: top;\n",
       "    }\n",
       "\n",
       "    .dataframe thead th {\n",
       "        text-align: right;\n",
       "    }\n",
       "</style>\n",
       "<table border=\"1\" class=\"dataframe\">\n",
       "  <thead>\n",
       "    <tr style=\"text-align: right;\">\n",
       "      <th></th>\n",
       "      <th>age</th>\n",
       "      <th>workclass</th>\n",
       "      <th>fnlwgt</th>\n",
       "      <th>education</th>\n",
       "      <th>education-num</th>\n",
       "      <th>marital-status</th>\n",
       "      <th>occupation</th>\n",
       "      <th>relationship</th>\n",
       "      <th>race</th>\n",
       "      <th>sex</th>\n",
       "      <th>capital-gain</th>\n",
       "      <th>capital-loss</th>\n",
       "      <th>hours-per-week</th>\n",
       "      <th>country</th>\n",
       "      <th>salary</th>\n",
       "    </tr>\n",
       "  </thead>\n",
       "  <tbody>\n",
       "    <tr>\n",
       "      <th>0</th>\n",
       "      <td>50</td>\n",
       "      <td>Self-emp-not-inc</td>\n",
       "      <td>83311</td>\n",
       "      <td>Bachelors</td>\n",
       "      <td>13</td>\n",
       "      <td>Married-civ-spouse</td>\n",
       "      <td>Exec-managerial</td>\n",
       "      <td>Husband</td>\n",
       "      <td>White</td>\n",
       "      <td>Male</td>\n",
       "      <td>0</td>\n",
       "      <td>0</td>\n",
       "      <td>13</td>\n",
       "      <td>United-States</td>\n",
       "      <td>&lt;=50K</td>\n",
       "    </tr>\n",
       "    <tr>\n",
       "      <th>1</th>\n",
       "      <td>38</td>\n",
       "      <td>Private</td>\n",
       "      <td>215646</td>\n",
       "      <td>HS-grad</td>\n",
       "      <td>9</td>\n",
       "      <td>Divorced</td>\n",
       "      <td>Handlers-cleaners</td>\n",
       "      <td>Not-in-family</td>\n",
       "      <td>White</td>\n",
       "      <td>Male</td>\n",
       "      <td>0</td>\n",
       "      <td>0</td>\n",
       "      <td>40</td>\n",
       "      <td>United-States</td>\n",
       "      <td>&lt;=50K</td>\n",
       "    </tr>\n",
       "    <tr>\n",
       "      <th>2</th>\n",
       "      <td>53</td>\n",
       "      <td>Private</td>\n",
       "      <td>234721</td>\n",
       "      <td>11th</td>\n",
       "      <td>7</td>\n",
       "      <td>Married-civ-spouse</td>\n",
       "      <td>Handlers-cleaners</td>\n",
       "      <td>Husband</td>\n",
       "      <td>Black</td>\n",
       "      <td>Male</td>\n",
       "      <td>0</td>\n",
       "      <td>0</td>\n",
       "      <td>40</td>\n",
       "      <td>United-States</td>\n",
       "      <td>&lt;=50K</td>\n",
       "    </tr>\n",
       "    <tr>\n",
       "      <th>3</th>\n",
       "      <td>28</td>\n",
       "      <td>Private</td>\n",
       "      <td>338409</td>\n",
       "      <td>Bachelors</td>\n",
       "      <td>13</td>\n",
       "      <td>Married-civ-spouse</td>\n",
       "      <td>Prof-specialty</td>\n",
       "      <td>Wife</td>\n",
       "      <td>Black</td>\n",
       "      <td>Female</td>\n",
       "      <td>0</td>\n",
       "      <td>0</td>\n",
       "      <td>40</td>\n",
       "      <td>Cuba</td>\n",
       "      <td>&lt;=50K</td>\n",
       "    </tr>\n",
       "    <tr>\n",
       "      <th>4</th>\n",
       "      <td>37</td>\n",
       "      <td>Private</td>\n",
       "      <td>284582</td>\n",
       "      <td>Masters</td>\n",
       "      <td>14</td>\n",
       "      <td>Married-civ-spouse</td>\n",
       "      <td>Exec-managerial</td>\n",
       "      <td>Wife</td>\n",
       "      <td>White</td>\n",
       "      <td>Female</td>\n",
       "      <td>0</td>\n",
       "      <td>0</td>\n",
       "      <td>40</td>\n",
       "      <td>United-States</td>\n",
       "      <td>&lt;=50K</td>\n",
       "    </tr>\n",
       "  </tbody>\n",
       "</table>\n",
       "</div>"
      ],
      "text/plain": [
       "   age         workclass  fnlwgt  education  education-num  \\\n",
       "0   50  Self-emp-not-inc   83311  Bachelors             13   \n",
       "1   38           Private  215646    HS-grad              9   \n",
       "2   53           Private  234721       11th              7   \n",
       "3   28           Private  338409  Bachelors             13   \n",
       "4   37           Private  284582    Masters             14   \n",
       "\n",
       "       marital-status         occupation   relationship   race     sex  \\\n",
       "0  Married-civ-spouse    Exec-managerial        Husband  White    Male   \n",
       "1            Divorced  Handlers-cleaners  Not-in-family  White    Male   \n",
       "2  Married-civ-spouse  Handlers-cleaners        Husband  Black    Male   \n",
       "3  Married-civ-spouse     Prof-specialty           Wife  Black  Female   \n",
       "4  Married-civ-spouse    Exec-managerial           Wife  White  Female   \n",
       "\n",
       "   capital-gain  capital-loss  hours-per-week        country salary  \n",
       "0             0             0              13  United-States  <=50K  \n",
       "1             0             0              40  United-States  <=50K  \n",
       "2             0             0              40  United-States  <=50K  \n",
       "3             0             0              40           Cuba  <=50K  \n",
       "4             0             0              40  United-States  <=50K  "
      ]
     },
     "execution_count": 15,
     "metadata": {},
     "output_type": "execute_result"
    }
   ],
   "source": [
    "# Mostrar las primeras cinco filas del dataset\n",
    "data.head()"
   ]
  },
  {
   "cell_type": "code",
   "execution_count": null,
   "id": "3f16c721",
   "metadata": {},
   "outputs": [],
   "source": [
    "#Manejo de valores faltantes:\n",
    "#se opta por eliminar o imputar los valores nulos según la estrategia \n",
    "#más adecuada para el modelo"
   ]
  },
  {
   "cell_type": "code",
   "execution_count": 16,
   "id": "7d0a7aeb-e860-4972-a679-eb4b29350d31",
   "metadata": {
    "colab": {
     "base_uri": "https://localhost:8080/",
     "height": 554
    },
    "id": "7d0a7aeb-e860-4972-a679-eb4b29350d31",
    "outputId": "a96b25ef-5419-4642-c147-3ffe6820bc74"
   },
   "outputs": [
    {
     "data": {
      "text/plain": [
       "age               0\n",
       "workclass         0\n",
       "fnlwgt            0\n",
       "education         0\n",
       "education-num     0\n",
       "marital-status    0\n",
       "occupation        0\n",
       "relationship      0\n",
       "race              0\n",
       "sex               0\n",
       "capital-gain      0\n",
       "capital-loss      0\n",
       "hours-per-week    0\n",
       "country           0\n",
       "salary            0\n",
       "dtype: int64"
      ]
     },
     "execution_count": 16,
     "metadata": {},
     "output_type": "execute_result"
    }
   ],
   "source": [
    "data.isna().sum().sort_values()"
   ]
  },
  {
   "cell_type": "code",
   "execution_count": 17,
   "id": "c991f1da-5072-4f74-ae7f-0c2c60492695",
   "metadata": {
    "colab": {
     "base_uri": "https://localhost:8080/",
     "height": 547
    },
    "id": "c991f1da-5072-4f74-ae7f-0c2c60492695",
    "outputId": "745ee00e-349e-4d60-b33d-64c22d0e4f29"
   },
   "outputs": [
    {
     "data": {
      "text/plain": [
       "<Axes: >"
      ]
     },
     "execution_count": 17,
     "metadata": {},
     "output_type": "execute_result"
    },
    {
     "data": {
      "image/png": "[encoded data removed]",
      "text/plain": [
       "<Figure size 640x480 with 2 Axes>"
      ]
     },
     "metadata": {},
     "output_type": "display_data"
    }
   ],
   "source": [
    "sns.heatmap(data.isna())"
   ]
  },
  {
   "cell_type": "code",
   "execution_count": 18,
   "id": "9b20a54c-985e-4110-98ad-75bca74061a0",
   "metadata": {
    "colab": {
     "base_uri": "https://localhost:8080/",
     "height": 466
    },
    "id": "9b20a54c-985e-4110-98ad-75bca74061a0",
    "outputId": "39d49e62-b481-493a-94a1-92d513b949e7"
   },
   "outputs": [
    {
     "data": {
      "text/plain": [
       "<Axes: xlabel='race', ylabel='count'>"
      ]
     },
     "execution_count": 18,
     "metadata": {},
     "output_type": "execute_result"
    },
    {
     "data": {
      "image/png": "[encoded data removed]",
      "text/plain": [
       "<Figure size 640x480 with 1 Axes>"
      ]
     },
     "metadata": {},
     "output_type": "display_data"
    }
   ],
   "source": [
    "sns.countplot(x=\"race\", data= data)"
   ]
  },
  {
   "cell_type": "code",
   "execution_count": 19,
   "id": "577dd255-c931-4640-bc60-417c7f5d56c0",
   "metadata": {
    "colab": {
     "base_uri": "https://localhost:8080/",
     "height": 470
    },
    "id": "577dd255-c931-4640-bc60-417c7f5d56c0",
    "outputId": "cf03658a-0973-4862-fb70-a769158af2b8"
   },
   "outputs": [
    {
     "data": {
      "text/plain": [
       "<Axes: xlabel='race', ylabel='count'>"
      ]
     },
     "execution_count": 19,
     "metadata": {},
     "output_type": "execute_result"
    },
    {
     "data": {
      "image/png": "[encoded data removed]",
      "text/plain": [
       "<Figure size 640x480 with 1 Axes>"
      ]
     },
     "metadata": {},
     "output_type": "display_data"
    }
   ],
   "source": [
    "sns.countplot(x=\"race\", data= data, hue=\"sex\")"
   ]
  },
  {
   "cell_type": "code",
   "execution_count": 20,
   "id": "2d2f432e-4dfd-4561-93ac-6903f906ccae",
   "metadata": {
    "colab": {
     "base_uri": "https://localhost:8080/",
     "height": 466
    },
    "id": "2d2f432e-4dfd-4561-93ac-6903f906ccae",
    "outputId": "95c18b69-f56b-4a4c-86ee-eba5f9ee4b67"
   },
   "outputs": [
    {
     "data": {
      "text/plain": [
       "<Axes: xlabel='race', ylabel='count'>"
      ]
     },
     "execution_count": 20,
     "metadata": {},
     "output_type": "execute_result"
    },
    {
     "data": {
      "image/png": "[encoded data removed]",
      "text/plain": [
       "<Figure size 640x480 with 1 Axes>"
      ]
     },
     "metadata": {},
     "output_type": "display_data"
    }
   ],
   "source": [
    "sns.countplot(x=\"race\", data= data, hue=\"salary\")"
   ]
  },
  {
   "cell_type": "code",
   "execution_count": 21,
   "id": "f24d9c55-228c-464a-abc5-0e4a1b1e3e92",
   "metadata": {
    "colab": {
     "base_uri": "https://localhost:8080/",
     "height": 447
    },
    "id": "f24d9c55-228c-464a-abc5-0e4a1b1e3e92",
    "outputId": "fa1884d1-c17f-41a8-972f-2c9927bc83ef"
   },
   "outputs": [
    {
     "data": {
      "text/plain": [
       "<Axes: ylabel='Frequency'>"
      ]
     },
     "execution_count": 21,
     "metadata": {},
     "output_type": "execute_result"
    },
    {
     "data": {
      "image/png": "[encoded data removed]",
      "text/plain": [
       "<Figure size 640x480 with 1 Axes>"
      ]
     },
     "metadata": {},
     "output_type": "display_data"
    }
   ],
   "source": [
    "data[\"education-num\"].plot.hist(bins=20)"
   ]
  },
  {
   "cell_type": "markdown",
   "id": "f0f2fa30-6749-484b-a502-51eb32adb1a2",
   "metadata": {
    "id": "f0f2fa30-6749-484b-a502-51eb32adb1a2"
   },
   "source": [
    "## **LIMPIEZA**"
   ]
  },
  {
   "cell_type": "code",
   "execution_count": 22,
   "id": "91b69066-56fa-431a-be08-81999a3e0556",
   "metadata": {
    "colab": {
     "base_uri": "https://localhost:8080/",
     "height": 466
    },
    "id": "91b69066-56fa-431a-be08-81999a3e0556",
    "outputId": "3d2033bb-37eb-499b-bc62-cac499689fee"
   },
   "outputs": [
    {
     "data": {
      "text/plain": [
       "<Axes: xlabel='salary', ylabel='age'>"
      ]
     },
     "execution_count": 22,
     "metadata": {},
     "output_type": "execute_result"
    },
    {
     "data": {
      "image/png": "[encoded data removed]",
      "text/plain": [
       "<Figure size 640x480 with 1 Axes>"
      ]
     },
     "metadata": {},
     "output_type": "display_data"
    }
   ],
   "source": [
    "sns.boxplot(x=\"salary\", y=\"age\", data=data)"
   ]
  },
  {
   "cell_type": "code",
   "execution_count": 23,
   "id": "2563d9ca-22dc-4397-ac4a-1a87564ad576",
   "metadata": {
    "id": "2563d9ca-22dc-4397-ac4a-1a87564ad576"
   },
   "outputs": [],
   "source": [
    "def calcularEdad(columnas):\n",
    "    edad = columnas.iloc[0]\n",
    "    clases = columnas.iloc[1]\n",
    "    if pd.isnull (edad):\n",
    "        if clases == 1:\n",
    "            return 38\n",
    "        elif clases == 2:\n",
    "            return 29\n",
    "        else:\n",
    "            return 25\n",
    "    else:\n",
    "        return edad"
   ]
  },
  {
   "cell_type": "code",
   "execution_count": 24,
   "id": "c881a375-2c3a-4720-9fec-e88a39e4e73e",
   "metadata": {
    "colab": {
     "base_uri": "https://localhost:8080/",
     "height": 547
    },
    "id": "c881a375-2c3a-4720-9fec-e88a39e4e73e",
    "outputId": "a57e5dfb-c727-47f4-8254-79a50244c9c5"
   },
   "outputs": [
    {
     "data": {
      "text/plain": [
       "<Axes: >"
      ]
     },
     "execution_count": 24,
     "metadata": {},
     "output_type": "execute_result"
    },
    {
     "data": {
      "image/png": "[encoded data removed]",
      "text/plain": [
       "<Figure size 640x480 with 2 Axes>"
      ]
     },
     "metadata": {},
     "output_type": "display_data"
    }
   ],
   "source": [
    "data[\"age\"] = data[[\"age\",\"salary\"]].apply(calcularEdad, axis=1)\n",
    "sns.heatmap(data.isna())"
   ]
  },
  {
   "cell_type": "code",
   "execution_count": 25,
   "id": "e21b4e00-dd97-4a4c-bed8-d93e21c510b7",
   "metadata": {
    "colab": {
     "base_uri": "https://localhost:8080/",
     "height": 206
    },
    "id": "e21b4e00-dd97-4a4c-bed8-d93e21c510b7",
    "outputId": "50070599-4423-4f54-a682-592f79cbcea9"
   },
   "outputs": [
    {
     "data": {
      "text/html": [
       "<div>\n",
       "<style scoped>\n",
       "    .dataframe tbody tr th:only-of-type {\n",
       "        vertical-align: middle;\n",
       "    }\n",
       "\n",
       "    .dataframe tbody tr th {\n",
       "        vertical-align: top;\n",
       "    }\n",
       "\n",
       "    .dataframe thead th {\n",
       "        text-align: right;\n",
       "    }\n",
       "</style>\n",
       "<table border=\"1\" class=\"dataframe\">\n",
       "  <thead>\n",
       "    <tr style=\"text-align: right;\">\n",
       "      <th></th>\n",
       "      <th>age</th>\n",
       "      <th>fnlwgt</th>\n",
       "      <th>education-num</th>\n",
       "      <th>race</th>\n",
       "      <th>sex</th>\n",
       "      <th>capital-gain</th>\n",
       "      <th>capital-loss</th>\n",
       "      <th>hours-per-week</th>\n",
       "      <th>salary</th>\n",
       "    </tr>\n",
       "  </thead>\n",
       "  <tbody>\n",
       "    <tr>\n",
       "      <th>0</th>\n",
       "      <td>50</td>\n",
       "      <td>83311</td>\n",
       "      <td>13</td>\n",
       "      <td>White</td>\n",
       "      <td>Male</td>\n",
       "      <td>0</td>\n",
       "      <td>0</td>\n",
       "      <td>13</td>\n",
       "      <td>&lt;=50K</td>\n",
       "    </tr>\n",
       "    <tr>\n",
       "      <th>1</th>\n",
       "      <td>38</td>\n",
       "      <td>215646</td>\n",
       "      <td>9</td>\n",
       "      <td>White</td>\n",
       "      <td>Male</td>\n",
       "      <td>0</td>\n",
       "      <td>0</td>\n",
       "      <td>40</td>\n",
       "      <td>&lt;=50K</td>\n",
       "    </tr>\n",
       "    <tr>\n",
       "      <th>2</th>\n",
       "      <td>53</td>\n",
       "      <td>234721</td>\n",
       "      <td>7</td>\n",
       "      <td>Black</td>\n",
       "      <td>Male</td>\n",
       "      <td>0</td>\n",
       "      <td>0</td>\n",
       "      <td>40</td>\n",
       "      <td>&lt;=50K</td>\n",
       "    </tr>\n",
       "    <tr>\n",
       "      <th>3</th>\n",
       "      <td>28</td>\n",
       "      <td>338409</td>\n",
       "      <td>13</td>\n",
       "      <td>Black</td>\n",
       "      <td>Female</td>\n",
       "      <td>0</td>\n",
       "      <td>0</td>\n",
       "      <td>40</td>\n",
       "      <td>&lt;=50K</td>\n",
       "    </tr>\n",
       "    <tr>\n",
       "      <th>4</th>\n",
       "      <td>37</td>\n",
       "      <td>284582</td>\n",
       "      <td>14</td>\n",
       "      <td>White</td>\n",
       "      <td>Female</td>\n",
       "      <td>0</td>\n",
       "      <td>0</td>\n",
       "      <td>40</td>\n",
       "      <td>&lt;=50K</td>\n",
       "    </tr>\n",
       "  </tbody>\n",
       "</table>\n",
       "</div>"
      ],
      "text/plain": [
       "   age  fnlwgt  education-num   race     sex  capital-gain  capital-loss  \\\n",
       "0   50   83311             13  White    Male             0             0   \n",
       "1   38  215646              9  White    Male             0             0   \n",
       "2   53  234721              7  Black    Male             0             0   \n",
       "3   28  338409             13  Black  Female             0             0   \n",
       "4   37  284582             14  White  Female             0             0   \n",
       "\n",
       "   hours-per-week salary  \n",
       "0              13  <=50K  \n",
       "1              40  <=50K  \n",
       "2              40  <=50K  \n",
       "3              40  <=50K  \n",
       "4              40  <=50K  "
      ]
     },
     "execution_count": 25,
     "metadata": {},
     "output_type": "execute_result"
    }
   ],
   "source": [
    "data.drop(['workclass', 'education', 'marital-status', 'occupation', 'relationship', 'country'], axis=1, inplace=True)\n",
    "data.head()"
   ]
  },
  {
   "cell_type": "code",
   "execution_count": 26,
   "id": "f218b3f5-3a61-470c-b606-4581dc08c32c",
   "metadata": {
    "id": "f218b3f5-3a61-470c-b606-4581dc08c32c"
   },
   "outputs": [],
   "source": [
    "sexo = pd.get_dummies(data[\"sex\"], drop_first = True)"
   ]
  },
  {
   "cell_type": "code",
   "execution_count": 27,
   "id": "4de4cf45-147f-41d7-a6ef-e58ee6fa0520",
   "metadata": {
    "colab": {
     "base_uri": "https://localhost:8080/",
     "height": 458
    },
    "id": "4de4cf45-147f-41d7-a6ef-e58ee6fa0520",
    "outputId": "ce927c16-8b22-4ee6-bb56-be5d40be3c0e"
   },
   "outputs": [
    {
     "data": {
      "text/html": [
       "<div>\n",
       "<style scoped>\n",
       "    .dataframe tbody tr th:only-of-type {\n",
       "        vertical-align: middle;\n",
       "    }\n",
       "\n",
       "    .dataframe tbody tr th {\n",
       "        vertical-align: top;\n",
       "    }\n",
       "\n",
       "    .dataframe thead th {\n",
       "        text-align: right;\n",
       "    }\n",
       "</style>\n",
       "<table border=\"1\" class=\"dataframe\">\n",
       "  <thead>\n",
       "    <tr style=\"text-align: right;\">\n",
       "      <th></th>\n",
       "      <th>age</th>\n",
       "      <th>fnlwgt</th>\n",
       "      <th>education-num</th>\n",
       "      <th>race</th>\n",
       "      <th>sex</th>\n",
       "      <th>capital-gain</th>\n",
       "      <th>capital-loss</th>\n",
       "      <th>hours-per-week</th>\n",
       "      <th>salary</th>\n",
       "      <th>Male</th>\n",
       "    </tr>\n",
       "  </thead>\n",
       "  <tbody>\n",
       "    <tr>\n",
       "      <th>0</th>\n",
       "      <td>50</td>\n",
       "      <td>83311</td>\n",
       "      <td>13</td>\n",
       "      <td>White</td>\n",
       "      <td>Male</td>\n",
       "      <td>0</td>\n",
       "      <td>0</td>\n",
       "      <td>13</td>\n",
       "      <td>&lt;=50K</td>\n",
       "      <td>True</td>\n",
       "    </tr>\n",
       "    <tr>\n",
       "      <th>1</th>\n",
       "      <td>38</td>\n",
       "      <td>215646</td>\n",
       "      <td>9</td>\n",
       "      <td>White</td>\n",
       "      <td>Male</td>\n",
       "      <td>0</td>\n",
       "      <td>0</td>\n",
       "      <td>40</td>\n",
       "      <td>&lt;=50K</td>\n",
       "      <td>True</td>\n",
       "    </tr>\n",
       "    <tr>\n",
       "      <th>2</th>\n",
       "      <td>53</td>\n",
       "      <td>234721</td>\n",
       "      <td>7</td>\n",
       "      <td>Black</td>\n",
       "      <td>Male</td>\n",
       "      <td>0</td>\n",
       "      <td>0</td>\n",
       "      <td>40</td>\n",
       "      <td>&lt;=50K</td>\n",
       "      <td>True</td>\n",
       "    </tr>\n",
       "    <tr>\n",
       "      <th>3</th>\n",
       "      <td>28</td>\n",
       "      <td>338409</td>\n",
       "      <td>13</td>\n",
       "      <td>Black</td>\n",
       "      <td>Female</td>\n",
       "      <td>0</td>\n",
       "      <td>0</td>\n",
       "      <td>40</td>\n",
       "      <td>&lt;=50K</td>\n",
       "      <td>False</td>\n",
       "    </tr>\n",
       "    <tr>\n",
       "      <th>4</th>\n",
       "      <td>37</td>\n",
       "      <td>284582</td>\n",
       "      <td>14</td>\n",
       "      <td>White</td>\n",
       "      <td>Female</td>\n",
       "      <td>0</td>\n",
       "      <td>0</td>\n",
       "      <td>40</td>\n",
       "      <td>&lt;=50K</td>\n",
       "      <td>False</td>\n",
       "    </tr>\n",
       "    <tr>\n",
       "      <th>...</th>\n",
       "      <td>...</td>\n",
       "      <td>...</td>\n",
       "      <td>...</td>\n",
       "      <td>...</td>\n",
       "      <td>...</td>\n",
       "      <td>...</td>\n",
       "      <td>...</td>\n",
       "      <td>...</td>\n",
       "      <td>...</td>\n",
       "      <td>...</td>\n",
       "    </tr>\n",
       "    <tr>\n",
       "      <th>48836</th>\n",
       "      <td>39</td>\n",
       "      <td>215419</td>\n",
       "      <td>13</td>\n",
       "      <td>White</td>\n",
       "      <td>Female</td>\n",
       "      <td>0</td>\n",
       "      <td>0</td>\n",
       "      <td>36</td>\n",
       "      <td>&lt;=50K</td>\n",
       "      <td>False</td>\n",
       "    </tr>\n",
       "    <tr>\n",
       "      <th>48837</th>\n",
       "      <td>64</td>\n",
       "      <td>321403</td>\n",
       "      <td>9</td>\n",
       "      <td>Black</td>\n",
       "      <td>Male</td>\n",
       "      <td>0</td>\n",
       "      <td>0</td>\n",
       "      <td>40</td>\n",
       "      <td>&lt;=50K</td>\n",
       "      <td>True</td>\n",
       "    </tr>\n",
       "    <tr>\n",
       "      <th>48838</th>\n",
       "      <td>38</td>\n",
       "      <td>374983</td>\n",
       "      <td>13</td>\n",
       "      <td>White</td>\n",
       "      <td>Male</td>\n",
       "      <td>0</td>\n",
       "      <td>0</td>\n",
       "      <td>50</td>\n",
       "      <td>&lt;=50K</td>\n",
       "      <td>True</td>\n",
       "    </tr>\n",
       "    <tr>\n",
       "      <th>48839</th>\n",
       "      <td>44</td>\n",
       "      <td>83891</td>\n",
       "      <td>13</td>\n",
       "      <td>Asian-Pac-Islander</td>\n",
       "      <td>Male</td>\n",
       "      <td>5455</td>\n",
       "      <td>0</td>\n",
       "      <td>40</td>\n",
       "      <td>&lt;=50K</td>\n",
       "      <td>True</td>\n",
       "    </tr>\n",
       "    <tr>\n",
       "      <th>48840</th>\n",
       "      <td>35</td>\n",
       "      <td>182148</td>\n",
       "      <td>13</td>\n",
       "      <td>White</td>\n",
       "      <td>Male</td>\n",
       "      <td>0</td>\n",
       "      <td>0</td>\n",
       "      <td>60</td>\n",
       "      <td>&gt;50K</td>\n",
       "      <td>True</td>\n",
       "    </tr>\n",
       "  </tbody>\n",
       "</table>\n",
       "<p>48841 rows × 10 columns</p>\n",
       "</div>"
      ],
      "text/plain": [
       "       age  fnlwgt  education-num                race     sex  capital-gain  \\\n",
       "0       50   83311             13               White    Male             0   \n",
       "1       38  215646              9               White    Male             0   \n",
       "2       53  234721              7               Black    Male             0   \n",
       "3       28  338409             13               Black  Female             0   \n",
       "4       37  284582             14               White  Female             0   \n",
       "...    ...     ...            ...                 ...     ...           ...   \n",
       "48836   39  215419             13               White  Female             0   \n",
       "48837   64  321403              9               Black    Male             0   \n",
       "48838   38  374983             13               White    Male             0   \n",
       "48839   44   83891             13  Asian-Pac-Islander    Male          5455   \n",
       "48840   35  182148             13               White    Male             0   \n",
       "\n",
       "       capital-loss  hours-per-week salary   Male  \n",
       "0                 0              13  <=50K   True  \n",
       "1                 0              40  <=50K   True  \n",
       "2                 0              40  <=50K   True  \n",
       "3                 0              40  <=50K  False  \n",
       "4                 0              40  <=50K  False  \n",
       "...             ...             ...    ...    ...  \n",
       "48836             0              36  <=50K  False  \n",
       "48837             0              40  <=50K   True  \n",
       "48838             0              50  <=50K   True  \n",
       "48839             0              40  <=50K   True  \n",
       "48840             0              60   >50K   True  \n",
       "\n",
       "[48841 rows x 10 columns]"
      ]
     },
     "execution_count": 27,
     "metadata": {},
     "output_type": "execute_result"
    }
   ],
   "source": [
    "data = pd.concat([data,sexo], axis=1)\n",
    "data"
   ]
  },
  {
   "cell_type": "code",
   "execution_count": 28,
   "id": "aa3fd961-0368-493f-9fc6-e097b3a17d37",
   "metadata": {
    "colab": {
     "base_uri": "https://localhost:8080/",
     "height": 206
    },
    "id": "aa3fd961-0368-493f-9fc6-e097b3a17d37",
    "outputId": "9df0da37-1b40-4a32-c99f-74110b125825"
   },
   "outputs": [
    {
     "data": {
      "text/html": [
       "<div>\n",
       "<style scoped>\n",
       "    .dataframe tbody tr th:only-of-type {\n",
       "        vertical-align: middle;\n",
       "    }\n",
       "\n",
       "    .dataframe tbody tr th {\n",
       "        vertical-align: top;\n",
       "    }\n",
       "\n",
       "    .dataframe thead th {\n",
       "        text-align: right;\n",
       "    }\n",
       "</style>\n",
       "<table border=\"1\" class=\"dataframe\">\n",
       "  <thead>\n",
       "    <tr style=\"text-align: right;\">\n",
       "      <th></th>\n",
       "      <th>age</th>\n",
       "      <th>fnlwgt</th>\n",
       "      <th>education-num</th>\n",
       "      <th>race</th>\n",
       "      <th>capital-gain</th>\n",
       "      <th>capital-loss</th>\n",
       "      <th>hours-per-week</th>\n",
       "      <th>salary</th>\n",
       "      <th>Male</th>\n",
       "    </tr>\n",
       "  </thead>\n",
       "  <tbody>\n",
       "    <tr>\n",
       "      <th>0</th>\n",
       "      <td>50</td>\n",
       "      <td>83311</td>\n",
       "      <td>13</td>\n",
       "      <td>White</td>\n",
       "      <td>0</td>\n",
       "      <td>0</td>\n",
       "      <td>13</td>\n",
       "      <td>&lt;=50K</td>\n",
       "      <td>True</td>\n",
       "    </tr>\n",
       "    <tr>\n",
       "      <th>1</th>\n",
       "      <td>38</td>\n",
       "      <td>215646</td>\n",
       "      <td>9</td>\n",
       "      <td>White</td>\n",
       "      <td>0</td>\n",
       "      <td>0</td>\n",
       "      <td>40</td>\n",
       "      <td>&lt;=50K</td>\n",
       "      <td>True</td>\n",
       "    </tr>\n",
       "    <tr>\n",
       "      <th>2</th>\n",
       "      <td>53</td>\n",
       "      <td>234721</td>\n",
       "      <td>7</td>\n",
       "      <td>Black</td>\n",
       "      <td>0</td>\n",
       "      <td>0</td>\n",
       "      <td>40</td>\n",
       "      <td>&lt;=50K</td>\n",
       "      <td>True</td>\n",
       "    </tr>\n",
       "    <tr>\n",
       "      <th>3</th>\n",
       "      <td>28</td>\n",
       "      <td>338409</td>\n",
       "      <td>13</td>\n",
       "      <td>Black</td>\n",
       "      <td>0</td>\n",
       "      <td>0</td>\n",
       "      <td>40</td>\n",
       "      <td>&lt;=50K</td>\n",
       "      <td>False</td>\n",
       "    </tr>\n",
       "    <tr>\n",
       "      <th>4</th>\n",
       "      <td>37</td>\n",
       "      <td>284582</td>\n",
       "      <td>14</td>\n",
       "      <td>White</td>\n",
       "      <td>0</td>\n",
       "      <td>0</td>\n",
       "      <td>40</td>\n",
       "      <td>&lt;=50K</td>\n",
       "      <td>False</td>\n",
       "    </tr>\n",
       "  </tbody>\n",
       "</table>\n",
       "</div>"
      ],
      "text/plain": [
       "   age  fnlwgt  education-num   race  capital-gain  capital-loss  \\\n",
       "0   50   83311             13  White             0             0   \n",
       "1   38  215646              9  White             0             0   \n",
       "2   53  234721              7  Black             0             0   \n",
       "3   28  338409             13  Black             0             0   \n",
       "4   37  284582             14  White             0             0   \n",
       "\n",
       "   hours-per-week salary   Male  \n",
       "0              13  <=50K   True  \n",
       "1              40  <=50K   True  \n",
       "2              40  <=50K   True  \n",
       "3              40  <=50K  False  \n",
       "4              40  <=50K  False  "
      ]
     },
     "execution_count": 28,
     "metadata": {},
     "output_type": "execute_result"
    }
   ],
   "source": [
    "data.drop('sex', axis=1, inplace=True)\n",
    "data.head()"
   ]
  },
  {
   "cell_type": "code",
   "execution_count": 29,
   "id": "c802d029-a6f4-4e16-93cf-eaed2c09629c",
   "metadata": {
    "id": "c802d029-a6f4-4e16-93cf-eaed2c09629c"
   },
   "outputs": [],
   "source": [
    "data=data.rename(columns={\"male\":\"sex\"})"
   ]
  },
  {
   "cell_type": "code",
   "execution_count": 30,
   "id": "2c520382-e20b-41e6-a14e-4afb931d2e71",
   "metadata": {
    "id": "2c520382-e20b-41e6-a14e-4afb931d2e71"
   },
   "outputs": [],
   "source": [
    "puerto = pd.get_dummies(data[\"race\"], drop_first = True)"
   ]
  },
  {
   "cell_type": "code",
   "execution_count": 31,
   "id": "97d1ade3-341e-442c-8867-23eb4e9041b2",
   "metadata": {
    "colab": {
     "base_uri": "https://localhost:8080/",
     "height": 513
    },
    "id": "97d1ade3-341e-442c-8867-23eb4e9041b2",
    "outputId": "c4b2dd0f-0d7b-44dd-ff11-652af6e3225a"
   },
   "outputs": [
    {
     "data": {
      "text/html": [
       "<div>\n",
       "<style scoped>\n",
       "    .dataframe tbody tr th:only-of-type {\n",
       "        vertical-align: middle;\n",
       "    }\n",
       "\n",
       "    .dataframe tbody tr th {\n",
       "        vertical-align: top;\n",
       "    }\n",
       "\n",
       "    .dataframe thead th {\n",
       "        text-align: right;\n",
       "    }\n",
       "</style>\n",
       "<table border=\"1\" class=\"dataframe\">\n",
       "  <thead>\n",
       "    <tr style=\"text-align: right;\">\n",
       "      <th></th>\n",
       "      <th>age</th>\n",
       "      <th>fnlwgt</th>\n",
       "      <th>education-num</th>\n",
       "      <th>race</th>\n",
       "      <th>capital-gain</th>\n",
       "      <th>capital-loss</th>\n",
       "      <th>hours-per-week</th>\n",
       "      <th>salary</th>\n",
       "      <th>Male</th>\n",
       "      <th>Asian-Pac-Islander</th>\n",
       "      <th>Black</th>\n",
       "      <th>Other</th>\n",
       "      <th>White</th>\n",
       "    </tr>\n",
       "  </thead>\n",
       "  <tbody>\n",
       "    <tr>\n",
       "      <th>0</th>\n",
       "      <td>50</td>\n",
       "      <td>83311</td>\n",
       "      <td>13</td>\n",
       "      <td>White</td>\n",
       "      <td>0</td>\n",
       "      <td>0</td>\n",
       "      <td>13</td>\n",
       "      <td>&lt;=50K</td>\n",
       "      <td>True</td>\n",
       "      <td>False</td>\n",
       "      <td>False</td>\n",
       "      <td>False</td>\n",
       "      <td>True</td>\n",
       "    </tr>\n",
       "    <tr>\n",
       "      <th>1</th>\n",
       "      <td>38</td>\n",
       "      <td>215646</td>\n",
       "      <td>9</td>\n",
       "      <td>White</td>\n",
       "      <td>0</td>\n",
       "      <td>0</td>\n",
       "      <td>40</td>\n",
       "      <td>&lt;=50K</td>\n",
       "      <td>True</td>\n",
       "      <td>False</td>\n",
       "      <td>False</td>\n",
       "      <td>False</td>\n",
       "      <td>True</td>\n",
       "    </tr>\n",
       "    <tr>\n",
       "      <th>2</th>\n",
       "      <td>53</td>\n",
       "      <td>234721</td>\n",
       "      <td>7</td>\n",
       "      <td>Black</td>\n",
       "      <td>0</td>\n",
       "      <td>0</td>\n",
       "      <td>40</td>\n",
       "      <td>&lt;=50K</td>\n",
       "      <td>True</td>\n",
       "      <td>False</td>\n",
       "      <td>True</td>\n",
       "      <td>False</td>\n",
       "      <td>False</td>\n",
       "    </tr>\n",
       "    <tr>\n",
       "      <th>3</th>\n",
       "      <td>28</td>\n",
       "      <td>338409</td>\n",
       "      <td>13</td>\n",
       "      <td>Black</td>\n",
       "      <td>0</td>\n",
       "      <td>0</td>\n",
       "      <td>40</td>\n",
       "      <td>&lt;=50K</td>\n",
       "      <td>False</td>\n",
       "      <td>False</td>\n",
       "      <td>True</td>\n",
       "      <td>False</td>\n",
       "      <td>False</td>\n",
       "    </tr>\n",
       "    <tr>\n",
       "      <th>4</th>\n",
       "      <td>37</td>\n",
       "      <td>284582</td>\n",
       "      <td>14</td>\n",
       "      <td>White</td>\n",
       "      <td>0</td>\n",
       "      <td>0</td>\n",
       "      <td>40</td>\n",
       "      <td>&lt;=50K</td>\n",
       "      <td>False</td>\n",
       "      <td>False</td>\n",
       "      <td>False</td>\n",
       "      <td>False</td>\n",
       "      <td>True</td>\n",
       "    </tr>\n",
       "    <tr>\n",
       "      <th>...</th>\n",
       "      <td>...</td>\n",
       "      <td>...</td>\n",
       "      <td>...</td>\n",
       "      <td>...</td>\n",
       "      <td>...</td>\n",
       "      <td>...</td>\n",
       "      <td>...</td>\n",
       "      <td>...</td>\n",
       "      <td>...</td>\n",
       "      <td>...</td>\n",
       "      <td>...</td>\n",
       "      <td>...</td>\n",
       "      <td>...</td>\n",
       "    </tr>\n",
       "    <tr>\n",
       "      <th>48836</th>\n",
       "      <td>39</td>\n",
       "      <td>215419</td>\n",
       "      <td>13</td>\n",
       "      <td>White</td>\n",
       "      <td>0</td>\n",
       "      <td>0</td>\n",
       "      <td>36</td>\n",
       "      <td>&lt;=50K</td>\n",
       "      <td>False</td>\n",
       "      <td>False</td>\n",
       "      <td>False</td>\n",
       "      <td>False</td>\n",
       "      <td>True</td>\n",
       "    </tr>\n",
       "    <tr>\n",
       "      <th>48837</th>\n",
       "      <td>64</td>\n",
       "      <td>321403</td>\n",
       "      <td>9</td>\n",
       "      <td>Black</td>\n",
       "      <td>0</td>\n",
       "      <td>0</td>\n",
       "      <td>40</td>\n",
       "      <td>&lt;=50K</td>\n",
       "      <td>True</td>\n",
       "      <td>False</td>\n",
       "      <td>True</td>\n",
       "      <td>False</td>\n",
       "      <td>False</td>\n",
       "    </tr>\n",
       "    <tr>\n",
       "      <th>48838</th>\n",
       "      <td>38</td>\n",
       "      <td>374983</td>\n",
       "      <td>13</td>\n",
       "      <td>White</td>\n",
       "      <td>0</td>\n",
       "      <td>0</td>\n",
       "      <td>50</td>\n",
       "      <td>&lt;=50K</td>\n",
       "      <td>True</td>\n",
       "      <td>False</td>\n",
       "      <td>False</td>\n",
       "      <td>False</td>\n",
       "      <td>True</td>\n",
       "    </tr>\n",
       "    <tr>\n",
       "      <th>48839</th>\n",
       "      <td>44</td>\n",
       "      <td>83891</td>\n",
       "      <td>13</td>\n",
       "      <td>Asian-Pac-Islander</td>\n",
       "      <td>5455</td>\n",
       "      <td>0</td>\n",
       "      <td>40</td>\n",
       "      <td>&lt;=50K</td>\n",
       "      <td>True</td>\n",
       "      <td>True</td>\n",
       "      <td>False</td>\n",
       "      <td>False</td>\n",
       "      <td>False</td>\n",
       "    </tr>\n",
       "    <tr>\n",
       "      <th>48840</th>\n",
       "      <td>35</td>\n",
       "      <td>182148</td>\n",
       "      <td>13</td>\n",
       "      <td>White</td>\n",
       "      <td>0</td>\n",
       "      <td>0</td>\n",
       "      <td>60</td>\n",
       "      <td>&gt;50K</td>\n",
       "      <td>True</td>\n",
       "      <td>False</td>\n",
       "      <td>False</td>\n",
       "      <td>False</td>\n",
       "      <td>True</td>\n",
       "    </tr>\n",
       "  </tbody>\n",
       "</table>\n",
       "<p>48841 rows × 13 columns</p>\n",
       "</div>"
      ],
      "text/plain": [
       "       age  fnlwgt  education-num                race  capital-gain  \\\n",
       "0       50   83311             13               White             0   \n",
       "1       38  215646              9               White             0   \n",
       "2       53  234721              7               Black             0   \n",
       "3       28  338409             13               Black             0   \n",
       "4       37  284582             14               White             0   \n",
       "...    ...     ...            ...                 ...           ...   \n",
       "48836   39  215419             13               White             0   \n",
       "48837   64  321403              9               Black             0   \n",
       "48838   38  374983             13               White             0   \n",
       "48839   44   83891             13  Asian-Pac-Islander          5455   \n",
       "48840   35  182148             13               White             0   \n",
       "\n",
       "       capital-loss  hours-per-week salary   Male  Asian-Pac-Islander  Black  \\\n",
       "0                 0              13  <=50K   True               False  False   \n",
       "1                 0              40  <=50K   True               False  False   \n",
       "2                 0              40  <=50K   True               False   True   \n",
       "3                 0              40  <=50K  False               False   True   \n",
       "4                 0              40  <=50K  False               False  False   \n",
       "...             ...             ...    ...    ...                 ...    ...   \n",
       "48836             0              36  <=50K  False               False  False   \n",
       "48837             0              40  <=50K   True               False   True   \n",
       "48838             0              50  <=50K   True               False  False   \n",
       "48839             0              40  <=50K   True                True  False   \n",
       "48840             0              60   >50K   True               False  False   \n",
       "\n",
       "       Other  White  \n",
       "0      False   True  \n",
       "1      False   True  \n",
       "2      False  False  \n",
       "3      False  False  \n",
       "4      False   True  \n",
       "...      ...    ...  \n",
       "48836  False   True  \n",
       "48837  False  False  \n",
       "48838  False   True  \n",
       "48839  False  False  \n",
       "48840  False   True  \n",
       "\n",
       "[48841 rows x 13 columns]"
      ]
     },
     "execution_count": 31,
     "metadata": {},
     "output_type": "execute_result"
    }
   ],
   "source": [
    "data = pd.concat([data,puerto], axis=1)\n",
    "data"
   ]
  },
  {
   "cell_type": "code",
   "execution_count": 32,
   "id": "670f49a4-808c-4431-8968-4df4585146db",
   "metadata": {
    "colab": {
     "base_uri": "https://localhost:8080/",
     "height": 441
    },
    "id": "670f49a4-808c-4431-8968-4df4585146db",
    "outputId": "d52a48bd-f99d-4a43-bbc2-8a235c16c254"
   },
   "outputs": [
    {
     "data": {
      "text/html": [
       "<div>\n",
       "<style scoped>\n",
       "    .dataframe tbody tr th:only-of-type {\n",
       "        vertical-align: middle;\n",
       "    }\n",
       "\n",
       "    .dataframe tbody tr th {\n",
       "        vertical-align: top;\n",
       "    }\n",
       "\n",
       "    .dataframe thead th {\n",
       "        text-align: right;\n",
       "    }\n",
       "</style>\n",
       "<table border=\"1\" class=\"dataframe\">\n",
       "  <thead>\n",
       "    <tr style=\"text-align: right;\">\n",
       "      <th></th>\n",
       "      <th>age</th>\n",
       "      <th>fnlwgt</th>\n",
       "      <th>education-num</th>\n",
       "      <th>capital-gain</th>\n",
       "      <th>capital-loss</th>\n",
       "      <th>hours-per-week</th>\n",
       "      <th>salary</th>\n",
       "      <th>Male</th>\n",
       "      <th>Asian-Pac-Islander</th>\n",
       "      <th>Black</th>\n",
       "      <th>Other</th>\n",
       "      <th>White</th>\n",
       "    </tr>\n",
       "  </thead>\n",
       "  <tbody>\n",
       "    <tr>\n",
       "      <th>0</th>\n",
       "      <td>50</td>\n",
       "      <td>83311</td>\n",
       "      <td>13</td>\n",
       "      <td>0</td>\n",
       "      <td>0</td>\n",
       "      <td>13</td>\n",
       "      <td>&lt;=50K</td>\n",
       "      <td>True</td>\n",
       "      <td>False</td>\n",
       "      <td>False</td>\n",
       "      <td>False</td>\n",
       "      <td>True</td>\n",
       "    </tr>\n",
       "    <tr>\n",
       "      <th>1</th>\n",
       "      <td>38</td>\n",
       "      <td>215646</td>\n",
       "      <td>9</td>\n",
       "      <td>0</td>\n",
       "      <td>0</td>\n",
       "      <td>40</td>\n",
       "      <td>&lt;=50K</td>\n",
       "      <td>True</td>\n",
       "      <td>False</td>\n",
       "      <td>False</td>\n",
       "      <td>False</td>\n",
       "      <td>True</td>\n",
       "    </tr>\n",
       "    <tr>\n",
       "      <th>2</th>\n",
       "      <td>53</td>\n",
       "      <td>234721</td>\n",
       "      <td>7</td>\n",
       "      <td>0</td>\n",
       "      <td>0</td>\n",
       "      <td>40</td>\n",
       "      <td>&lt;=50K</td>\n",
       "      <td>True</td>\n",
       "      <td>False</td>\n",
       "      <td>True</td>\n",
       "      <td>False</td>\n",
       "      <td>False</td>\n",
       "    </tr>\n",
       "    <tr>\n",
       "      <th>3</th>\n",
       "      <td>28</td>\n",
       "      <td>338409</td>\n",
       "      <td>13</td>\n",
       "      <td>0</td>\n",
       "      <td>0</td>\n",
       "      <td>40</td>\n",
       "      <td>&lt;=50K</td>\n",
       "      <td>False</td>\n",
       "      <td>False</td>\n",
       "      <td>True</td>\n",
       "      <td>False</td>\n",
       "      <td>False</td>\n",
       "    </tr>\n",
       "    <tr>\n",
       "      <th>4</th>\n",
       "      <td>37</td>\n",
       "      <td>284582</td>\n",
       "      <td>14</td>\n",
       "      <td>0</td>\n",
       "      <td>0</td>\n",
       "      <td>40</td>\n",
       "      <td>&lt;=50K</td>\n",
       "      <td>False</td>\n",
       "      <td>False</td>\n",
       "      <td>False</td>\n",
       "      <td>False</td>\n",
       "      <td>True</td>\n",
       "    </tr>\n",
       "    <tr>\n",
       "      <th>...</th>\n",
       "      <td>...</td>\n",
       "      <td>...</td>\n",
       "      <td>...</td>\n",
       "      <td>...</td>\n",
       "      <td>...</td>\n",
       "      <td>...</td>\n",
       "      <td>...</td>\n",
       "      <td>...</td>\n",
       "      <td>...</td>\n",
       "      <td>...</td>\n",
       "      <td>...</td>\n",
       "      <td>...</td>\n",
       "    </tr>\n",
       "    <tr>\n",
       "      <th>48836</th>\n",
       "      <td>39</td>\n",
       "      <td>215419</td>\n",
       "      <td>13</td>\n",
       "      <td>0</td>\n",
       "      <td>0</td>\n",
       "      <td>36</td>\n",
       "      <td>&lt;=50K</td>\n",
       "      <td>False</td>\n",
       "      <td>False</td>\n",
       "      <td>False</td>\n",
       "      <td>False</td>\n",
       "      <td>True</td>\n",
       "    </tr>\n",
       "    <tr>\n",
       "      <th>48837</th>\n",
       "      <td>64</td>\n",
       "      <td>321403</td>\n",
       "      <td>9</td>\n",
       "      <td>0</td>\n",
       "      <td>0</td>\n",
       "      <td>40</td>\n",
       "      <td>&lt;=50K</td>\n",
       "      <td>True</td>\n",
       "      <td>False</td>\n",
       "      <td>True</td>\n",
       "      <td>False</td>\n",
       "      <td>False</td>\n",
       "    </tr>\n",
       "    <tr>\n",
       "      <th>48838</th>\n",
       "      <td>38</td>\n",
       "      <td>374983</td>\n",
       "      <td>13</td>\n",
       "      <td>0</td>\n",
       "      <td>0</td>\n",
       "      <td>50</td>\n",
       "      <td>&lt;=50K</td>\n",
       "      <td>True</td>\n",
       "      <td>False</td>\n",
       "      <td>False</td>\n",
       "      <td>False</td>\n",
       "      <td>True</td>\n",
       "    </tr>\n",
       "    <tr>\n",
       "      <th>48839</th>\n",
       "      <td>44</td>\n",
       "      <td>83891</td>\n",
       "      <td>13</td>\n",
       "      <td>5455</td>\n",
       "      <td>0</td>\n",
       "      <td>40</td>\n",
       "      <td>&lt;=50K</td>\n",
       "      <td>True</td>\n",
       "      <td>True</td>\n",
       "      <td>False</td>\n",
       "      <td>False</td>\n",
       "      <td>False</td>\n",
       "    </tr>\n",
       "    <tr>\n",
       "      <th>48840</th>\n",
       "      <td>35</td>\n",
       "      <td>182148</td>\n",
       "      <td>13</td>\n",
       "      <td>0</td>\n",
       "      <td>0</td>\n",
       "      <td>60</td>\n",
       "      <td>&gt;50K</td>\n",
       "      <td>True</td>\n",
       "      <td>False</td>\n",
       "      <td>False</td>\n",
       "      <td>False</td>\n",
       "      <td>True</td>\n",
       "    </tr>\n",
       "  </tbody>\n",
       "</table>\n",
       "<p>48841 rows × 12 columns</p>\n",
       "</div>"
      ],
      "text/plain": [
       "       age  fnlwgt  education-num  capital-gain  capital-loss  hours-per-week  \\\n",
       "0       50   83311             13             0             0              13   \n",
       "1       38  215646              9             0             0              40   \n",
       "2       53  234721              7             0             0              40   \n",
       "3       28  338409             13             0             0              40   \n",
       "4       37  284582             14             0             0              40   \n",
       "...    ...     ...            ...           ...           ...             ...   \n",
       "48836   39  215419             13             0             0              36   \n",
       "48837   64  321403              9             0             0              40   \n",
       "48838   38  374983             13             0             0              50   \n",
       "48839   44   83891             13          5455             0              40   \n",
       "48840   35  182148             13             0             0              60   \n",
       "\n",
       "      salary   Male  Asian-Pac-Islander  Black  Other  White  \n",
       "0      <=50K   True               False  False  False   True  \n",
       "1      <=50K   True               False  False  False   True  \n",
       "2      <=50K   True               False   True  False  False  \n",
       "3      <=50K  False               False   True  False  False  \n",
       "4      <=50K  False               False  False  False   True  \n",
       "...      ...    ...                 ...    ...    ...    ...  \n",
       "48836  <=50K  False               False  False  False   True  \n",
       "48837  <=50K   True               False   True  False  False  \n",
       "48838  <=50K   True               False  False  False   True  \n",
       "48839  <=50K   True                True  False  False  False  \n",
       "48840   >50K   True               False  False  False   True  \n",
       "\n",
       "[48841 rows x 12 columns]"
      ]
     },
     "execution_count": 32,
     "metadata": {},
     "output_type": "execute_result"
    }
   ],
   "source": [
    "data.drop('race', axis=1, inplace=True)\n",
    "data"
   ]
  },
  {
   "cell_type": "markdown",
   "id": "b4cc94ae-ae34-43cd-8f9a-a54c1569f66b",
   "metadata": {
    "id": "b4cc94ae-ae34-43cd-8f9a-a54c1569f66b"
   },
   "source": [
    "## **CLASIFICAR**"
   ]
  },
  {
   "cell_type": "code",
   "execution_count": 33,
   "id": "e989ab8d-0dc0-420e-a7b3-b7c545bc75a9",
   "metadata": {
    "id": "e989ab8d-0dc0-420e-a7b3-b7c545bc75a9"
   },
   "outputs": [],
   "source": [
    "x = data.iloc[:, 1:].values\n",
    "y = data.iloc[:, 0].values"
   ]
  },
  {
   "cell_type": "code",
   "execution_count": 34,
   "id": "9d6794ce-674e-4aac-9f58-3d47b0aae666",
   "metadata": {
    "id": "9d6794ce-674e-4aac-9f58-3d47b0aae666"
   },
   "outputs": [],
   "source": [
    "x_train, x_test, y_train, y_test=train_test_split(x, y, test_size=0.2, random_state=42)"
   ]
  },
  {
   "cell_type": "code",
   "execution_count": 35,
   "id": "hfEFkuqCZKNe",
   "metadata": {
    "id": "hfEFkuqCZKNe"
   },
   "outputs": [],
   "source": [
    "# Assuming 'y' is your target variable and contains '>50K' and '<=50K'\n",
    "from sklearn.preprocessing import LabelEncoder\n",
    "\n",
    "# Encode the target variable\n",
    "label_encoder = LabelEncoder()\n",
    "y_train = label_encoder.fit_transform(y_train)\n",
    "y_test = label_encoder.transform(y_test)\n",
    "\n",
    "# Now proceed with scaling the features (x_train and x_test)\n",
    "from sklearn.preprocessing import StandardScaler\n",
    "\n",
    "# Iterate through columns in x_train to find and encode string columns\n",
    "for col_index in range(x_train.shape[1]):\n",
    "    if isinstance(x_train[0, col_index], str):  # Check if the column contains strings\n",
    "        label_encoder_x = LabelEncoder()\n",
    "        x_train[:, col_index] = label_encoder_x.fit_transform(x_train[:, col_index])\n",
    "        x_test[:, col_index] = label_encoder_x.transform(x_test[:, col_index])\n",
    "\n",
    "scaler = StandardScaler()\n",
    "x_train = scaler.fit_transform(x_train)\n",
    "x_test = scaler.transform(x_test)"
   ]
  },
  {
   "cell_type": "code",
   "execution_count": 36,
   "id": "5fea0709-a8c5-443a-b17f-d4ef7c4b5d3e",
   "metadata": {
    "id": "5fea0709-a8c5-443a-b17f-d4ef7c4b5d3e"
   },
   "outputs": [],
   "source": [
    "# Crear el modelo de red neuronal simple\n",
    "modelo = Sequential()\n",
    "modelo.add(Input(shape=(x_train.shape[1],)))\n",
    "modelo.add(Dense(12, activation=\"relu\"))\n",
    "modelo.add(Dense(8, activation=\"relu\"))# Capa oculta\n",
    "modelo.add(Dense(1, activation=\"sigmoid\"))# Capa de salida (para clasificación binaria)"
   ]
  },
  {
   "cell_type": "code",
   "execution_count": 37,
   "id": "a82ede30-e9c0-4899-87aa-5bc703ec27cd",
   "metadata": {
    "id": "a82ede30-e9c0-4899-87aa-5bc703ec27cd"
   },
   "outputs": [],
   "source": [
    "# Compilamos el modelo\n",
    "modelo.compile(\n",
    "    loss='binary_crossentropy',\n",
    "    optimizer='adam',\n",
    "    metrics=['accuracy']\n",
    ")"
   ]
  },
  {
   "cell_type": "code",
   "execution_count": 38,
   "id": "1af30ecd-f490-469b-9e83-ce9712da0b38",
   "metadata": {
    "colab": {
     "base_uri": "https://localhost:8080/"
    },
    "id": "1af30ecd-f490-469b-9e83-ce9712da0b38",
    "outputId": "055de3d0-c275-4988-b30b-06ba7a58fba1"
   },
   "outputs": [
    {
     "name": "stdout",
     "output_type": "stream",
     "text": [
      "Epoch 1/10\n",
      "\u001b[1m3908/3908\u001b[0m \u001b[32m━━━━━━━━━━━━━━━━━━━━\u001b[0m\u001b[37m\u001b[0m \u001b[1m6s\u001b[0m 1ms/step - accuracy: 0.0171 - loss: -27473.0898\n",
      "Epoch 2/10\n",
      "\u001b[1m3908/3908\u001b[0m \u001b[32m━━━━━━━━━━━━━━━━━━━━\u001b[0m\u001b[37m\u001b[0m \u001b[1m5s\u001b[0m 1ms/step - accuracy: 0.0187 - loss: -715592.3125\n",
      "Epoch 3/10\n",
      "\u001b[1m3908/3908\u001b[0m \u001b[32m━━━━━━━━━━━━━━━━━━━━\u001b[0m\u001b[37m\u001b[0m \u001b[1m5s\u001b[0m 1ms/step - accuracy: 0.0175 - loss: -2977939.0000\n",
      "Epoch 4/10\n",
      "\u001b[1m3908/3908\u001b[0m \u001b[32m━━━━━━━━━━━━━━━━━━━━\u001b[0m\u001b[37m\u001b[0m \u001b[1m5s\u001b[0m 1ms/step - accuracy: 0.0172 - loss: -7465279.5000\n",
      "Epoch 5/10\n",
      "\u001b[1m3908/3908\u001b[0m \u001b[32m━━━━━━━━━━━━━━━━━━━━\u001b[0m\u001b[37m\u001b[0m \u001b[1m10s\u001b[0m 1ms/step - accuracy: 0.0181 - loss: -14706069.0000\n",
      "Epoch 6/10\n",
      "\u001b[1m3908/3908\u001b[0m \u001b[32m━━━━━━━━━━━━━━━━━━━━\u001b[0m\u001b[37m\u001b[0m \u001b[1m5s\u001b[0m 1ms/step - accuracy: 0.0177 - loss: -25099440.0000\n",
      "Epoch 7/10\n",
      "\u001b[1m3908/3908\u001b[0m \u001b[32m━━━━━━━━━━━━━━━━━━━━\u001b[0m\u001b[37m\u001b[0m \u001b[1m5s\u001b[0m 1ms/step - accuracy: 0.0174 - loss: -39892788.0000\n",
      "Epoch 8/10\n",
      "\u001b[1m3908/3908\u001b[0m \u001b[32m━━━━━━━━━━━━━━━━━━━━\u001b[0m\u001b[37m\u001b[0m \u001b[1m5s\u001b[0m 1ms/step - accuracy: 0.0172 - loss: -59275340.0000\n",
      "Epoch 9/10\n",
      "\u001b[1m3908/3908\u001b[0m \u001b[32m━━━━━━━━━━━━━━━━━━━━\u001b[0m\u001b[37m\u001b[0m \u001b[1m6s\u001b[0m 2ms/step - accuracy: 0.0184 - loss: -82835600.0000\n",
      "Epoch 10/10\n",
      "\u001b[1m3908/3908\u001b[0m \u001b[32m━━━━━━━━━━━━━━━━━━━━\u001b[0m\u001b[37m\u001b[0m \u001b[1m5s\u001b[0m 1ms/step - accuracy: 0.0191 - loss: -112435368.0000\n"
     ]
    }
   ],
   "source": [
    "historial = modelo.fit(x_train, y_train, epochs=10, batch_size=10)"
   ]
  },
  {
   "cell_type": "code",
   "execution_count": 39,
   "id": "f79c151d-cf8a-4ae1-89b5-6e8d8fcb6467",
   "metadata": {
    "colab": {
     "base_uri": "https://localhost:8080/",
     "height": 482
    },
    "id": "f79c151d-cf8a-4ae1-89b5-6e8d8fcb6467",
    "outputId": "3e144f9e-4a08-46f0-aa85-f299d7a39152"
   },
   "outputs": [
    {
     "data": {
      "text/plain": [
       "[<matplotlib.lines.Line2D at 0x142004dd0>]"
      ]
     },
     "execution_count": 39,
     "metadata": {},
     "output_type": "execute_result"
    },
    {
     "data": {
      "image/png": "[encoded data removed]",
      "text/plain": [
       "<Figure size 640x480 with 1 Axes>"
      ]
     },
     "metadata": {},
     "output_type": "display_data"
    }
   ],
   "source": [
    "plt.xlabel(\"# Epocas\")\n",
    "plt.ylabel(\"Magnitud de perdida\")\n",
    "plt.plot(historial.history[\"loss\"])"
   ]
  },
  {
   "cell_type": "code",
   "execution_count": 40,
   "id": "6bac9f1d-6788-4a9a-9087-9b841eb0aca3",
   "metadata": {
    "colab": {
     "base_uri": "https://localhost:8080/"
    },
    "id": "6bac9f1d-6788-4a9a-9087-9b841eb0aca3",
    "outputId": "8eafa029-444d-41ed-acc0-64e26ee2467e"
   },
   "outputs": [
    {
     "name": "stdout",
     "output_type": "stream",
     "text": [
      "\u001b[1m306/306\u001b[0m \u001b[32m━━━━━━━━━━━━━━━━━━━━\u001b[0m\u001b[37m\u001b[0m \u001b[1m0s\u001b[0m 972us/step - accuracy: 0.0173 - loss: -137774256.0000\n"
     ]
    },
    {
     "data": {
      "text/plain": [
       "[-139935920.0, 0.01648070476949215]"
      ]
     },
     "execution_count": 40,
     "metadata": {},
     "output_type": "execute_result"
    }
   ],
   "source": [
    "modelo.evaluate(x_test, y_test)"
   ]
  },
  {
   "cell_type": "code",
   "execution_count": 41,
   "id": "becaa0c9-87a6-4bb6-8e76-e2c710ae67f4",
   "metadata": {
    "colab": {
     "base_uri": "https://localhost:8080/"
    },
    "id": "becaa0c9-87a6-4bb6-8e76-e2c710ae67f4",
    "outputId": "ee75c724-7d08-4a16-a484-56d31dc6a373"
   },
   "outputs": [
    {
     "name": "stdout",
     "output_type": "stream",
     "text": [
      "\u001b[1m306/306\u001b[0m \u001b[32m━━━━━━━━━━━━━━━━━━━━\u001b[0m\u001b[37m\u001b[0m \u001b[1m0s\u001b[0m 1ms/step\n"
     ]
    }
   ],
   "source": [
    "# Evaluamos el modelo\n",
    "y_pred = modelo.predict(x_test)\n",
    "y_pred_df = pd.DataFrame(np.round(y_pred), columns = [\"Estimacion\"])"
   ]
  },
  {
   "cell_type": "code",
   "execution_count": 42,
   "id": "85ebafca-4061-43c2-aa8e-67f11fed9a37",
   "metadata": {
    "colab": {
     "base_uri": "https://localhost:8080/",
     "height": 444
    },
    "id": "85ebafca-4061-43c2-aa8e-67f11fed9a37",
    "outputId": "c040d2f5-9311-4c90-b6ed-56c59cc6990f"
   },
   "outputs": [
    {
     "data": {
      "text/html": [
       "<div>\n",
       "<style scoped>\n",
       "    .dataframe tbody tr th:only-of-type {\n",
       "        vertical-align: middle;\n",
       "    }\n",
       "\n",
       "    .dataframe tbody tr th {\n",
       "        vertical-align: top;\n",
       "    }\n",
       "\n",
       "    .dataframe thead th {\n",
       "        text-align: right;\n",
       "    }\n",
       "</style>\n",
       "<table border=\"1\" class=\"dataframe\">\n",
       "  <thead>\n",
       "    <tr style=\"text-align: right;\">\n",
       "      <th></th>\n",
       "      <th>0</th>\n",
       "      <th>1</th>\n",
       "      <th>2</th>\n",
       "      <th>3</th>\n",
       "      <th>4</th>\n",
       "      <th>5</th>\n",
       "      <th>6</th>\n",
       "      <th>7</th>\n",
       "      <th>8</th>\n",
       "      <th>9</th>\n",
       "      <th>10</th>\n",
       "      <th>0</th>\n",
       "      <th>Estimacion</th>\n",
       "    </tr>\n",
       "  </thead>\n",
       "  <tbody>\n",
       "    <tr>\n",
       "      <th>0</th>\n",
       "      <td>-0.303283</td>\n",
       "      <td>-0.423137</td>\n",
       "      <td>-0.145323</td>\n",
       "      <td>-0.217935</td>\n",
       "      <td>-0.683770</td>\n",
       "      <td>-0.562138</td>\n",
       "      <td>-1.419442</td>\n",
       "      <td>-0.178768</td>\n",
       "      <td>-0.324532</td>\n",
       "      <td>-0.092292</td>\n",
       "      <td>0.410647</td>\n",
       "      <td>28</td>\n",
       "      <td>1.0</td>\n",
       "    </tr>\n",
       "    <tr>\n",
       "      <th>1</th>\n",
       "      <td>0.103748</td>\n",
       "      <td>-0.423137</td>\n",
       "      <td>-0.145323</td>\n",
       "      <td>-0.217935</td>\n",
       "      <td>-0.035775</td>\n",
       "      <td>-0.562138</td>\n",
       "      <td>-1.419442</td>\n",
       "      <td>-0.178768</td>\n",
       "      <td>3.081357</td>\n",
       "      <td>-0.092292</td>\n",
       "      <td>-2.435183</td>\n",
       "      <td>11</td>\n",
       "      <td>1.0</td>\n",
       "    </tr>\n",
       "    <tr>\n",
       "      <th>2</th>\n",
       "      <td>-0.244785</td>\n",
       "      <td>-0.423137</td>\n",
       "      <td>-0.145323</td>\n",
       "      <td>-0.217935</td>\n",
       "      <td>-0.035775</td>\n",
       "      <td>-0.562138</td>\n",
       "      <td>0.704502</td>\n",
       "      <td>-0.178768</td>\n",
       "      <td>-0.324532</td>\n",
       "      <td>-0.092292</td>\n",
       "      <td>0.410647</td>\n",
       "      <td>4</td>\n",
       "      <td>1.0</td>\n",
       "    </tr>\n",
       "    <tr>\n",
       "      <th>3</th>\n",
       "      <td>-1.562372</td>\n",
       "      <td>-0.033800</td>\n",
       "      <td>-0.145323</td>\n",
       "      <td>-0.217935</td>\n",
       "      <td>-0.035775</td>\n",
       "      <td>-0.562138</td>\n",
       "      <td>-1.419442</td>\n",
       "      <td>-0.178768</td>\n",
       "      <td>-0.324532</td>\n",
       "      <td>-0.092292</td>\n",
       "      <td>0.410647</td>\n",
       "      <td>4</td>\n",
       "      <td>1.0</td>\n",
       "    </tr>\n",
       "    <tr>\n",
       "      <th>4</th>\n",
       "      <td>0.058843</td>\n",
       "      <td>2.302221</td>\n",
       "      <td>-0.145323</td>\n",
       "      <td>-0.217935</td>\n",
       "      <td>0.369222</td>\n",
       "      <td>1.778924</td>\n",
       "      <td>0.704502</td>\n",
       "      <td>-0.178768</td>\n",
       "      <td>-0.324532</td>\n",
       "      <td>-0.092292</td>\n",
       "      <td>0.410647</td>\n",
       "      <td>16</td>\n",
       "      <td>1.0</td>\n",
       "    </tr>\n",
       "    <tr>\n",
       "      <th>...</th>\n",
       "      <td>...</td>\n",
       "      <td>...</td>\n",
       "      <td>...</td>\n",
       "      <td>...</td>\n",
       "      <td>...</td>\n",
       "      <td>...</td>\n",
       "      <td>...</td>\n",
       "      <td>...</td>\n",
       "      <td>...</td>\n",
       "      <td>...</td>\n",
       "      <td>...</td>\n",
       "      <td>...</td>\n",
       "      <td>...</td>\n",
       "    </tr>\n",
       "    <tr>\n",
       "      <th>9764</th>\n",
       "      <td>0.321796</td>\n",
       "      <td>-0.423137</td>\n",
       "      <td>-0.145323</td>\n",
       "      <td>-0.217935</td>\n",
       "      <td>0.612220</td>\n",
       "      <td>-0.562138</td>\n",
       "      <td>-1.419442</td>\n",
       "      <td>-0.178768</td>\n",
       "      <td>-0.324532</td>\n",
       "      <td>-0.092292</td>\n",
       "      <td>0.410647</td>\n",
       "      <td>35</td>\n",
       "      <td>1.0</td>\n",
       "    </tr>\n",
       "    <tr>\n",
       "      <th>9765</th>\n",
       "      <td>0.039605</td>\n",
       "      <td>-0.033800</td>\n",
       "      <td>-0.145323</td>\n",
       "      <td>-0.217935</td>\n",
       "      <td>1.179216</td>\n",
       "      <td>-0.562138</td>\n",
       "      <td>0.704502</td>\n",
       "      <td>-0.178768</td>\n",
       "      <td>3.081357</td>\n",
       "      <td>-0.092292</td>\n",
       "      <td>-2.435183</td>\n",
       "      <td>21</td>\n",
       "      <td>1.0</td>\n",
       "    </tr>\n",
       "    <tr>\n",
       "      <th>9766</th>\n",
       "      <td>-1.539198</td>\n",
       "      <td>-0.423137</td>\n",
       "      <td>-0.145323</td>\n",
       "      <td>-0.217935</td>\n",
       "      <td>-0.035775</td>\n",
       "      <td>-0.562138</td>\n",
       "      <td>-1.419442</td>\n",
       "      <td>-0.178768</td>\n",
       "      <td>-0.324532</td>\n",
       "      <td>-0.092292</td>\n",
       "      <td>0.410647</td>\n",
       "      <td>19</td>\n",
       "      <td>1.0</td>\n",
       "    </tr>\n",
       "    <tr>\n",
       "      <th>9767</th>\n",
       "      <td>-1.495699</td>\n",
       "      <td>-0.423137</td>\n",
       "      <td>-0.145323</td>\n",
       "      <td>-0.217935</td>\n",
       "      <td>1.989210</td>\n",
       "      <td>-0.562138</td>\n",
       "      <td>0.704502</td>\n",
       "      <td>-0.178768</td>\n",
       "      <td>-0.324532</td>\n",
       "      <td>-0.092292</td>\n",
       "      <td>0.410647</td>\n",
       "      <td>51</td>\n",
       "      <td>1.0</td>\n",
       "    </tr>\n",
       "    <tr>\n",
       "      <th>9768</th>\n",
       "      <td>-0.466930</td>\n",
       "      <td>-0.423137</td>\n",
       "      <td>-0.145323</td>\n",
       "      <td>-0.217935</td>\n",
       "      <td>-0.035775</td>\n",
       "      <td>-0.562138</td>\n",
       "      <td>0.704502</td>\n",
       "      <td>-0.178768</td>\n",
       "      <td>-0.324532</td>\n",
       "      <td>-0.092292</td>\n",
       "      <td>0.410647</td>\n",
       "      <td>28</td>\n",
       "      <td>1.0</td>\n",
       "    </tr>\n",
       "  </tbody>\n",
       "</table>\n",
       "<p>9769 rows × 13 columns</p>\n",
       "</div>"
      ],
      "text/plain": [
       "             0         1         2         3         4         5         6  \\\n",
       "0    -0.303283 -0.423137 -0.145323 -0.217935 -0.683770 -0.562138 -1.419442   \n",
       "1     0.103748 -0.423137 -0.145323 -0.217935 -0.035775 -0.562138 -1.419442   \n",
       "2    -0.244785 -0.423137 -0.145323 -0.217935 -0.035775 -0.562138  0.704502   \n",
       "3    -1.562372 -0.033800 -0.145323 -0.217935 -0.035775 -0.562138 -1.419442   \n",
       "4     0.058843  2.302221 -0.145323 -0.217935  0.369222  1.778924  0.704502   \n",
       "...        ...       ...       ...       ...       ...       ...       ...   \n",
       "9764  0.321796 -0.423137 -0.145323 -0.217935  0.612220 -0.562138 -1.419442   \n",
       "9765  0.039605 -0.033800 -0.145323 -0.217935  1.179216 -0.562138  0.704502   \n",
       "9766 -1.539198 -0.423137 -0.145323 -0.217935 -0.035775 -0.562138 -1.419442   \n",
       "9767 -1.495699 -0.423137 -0.145323 -0.217935  1.989210 -0.562138  0.704502   \n",
       "9768 -0.466930 -0.423137 -0.145323 -0.217935 -0.035775 -0.562138  0.704502   \n",
       "\n",
       "             7         8         9        10   0  Estimacion  \n",
       "0    -0.178768 -0.324532 -0.092292  0.410647  28         1.0  \n",
       "1    -0.178768  3.081357 -0.092292 -2.435183  11         1.0  \n",
       "2    -0.178768 -0.324532 -0.092292  0.410647   4         1.0  \n",
       "3    -0.178768 -0.324532 -0.092292  0.410647   4         1.0  \n",
       "4    -0.178768 -0.324532 -0.092292  0.410647  16         1.0  \n",
       "...        ...       ...       ...       ...  ..         ...  \n",
       "9764 -0.178768 -0.324532 -0.092292  0.410647  35         1.0  \n",
       "9765 -0.178768  3.081357 -0.092292 -2.435183  21         1.0  \n",
       "9766 -0.178768 -0.324532 -0.092292  0.410647  19         1.0  \n",
       "9767 -0.178768 -0.324532 -0.092292  0.410647  51         1.0  \n",
       "9768 -0.178768 -0.324532 -0.092292  0.410647  28         1.0  \n",
       "\n",
       "[9769 rows x 13 columns]"
      ]
     },
     "execution_count": 42,
     "metadata": {},
     "output_type": "execute_result"
    }
   ],
   "source": [
    "estimar = pd.concat([pd.DataFrame(x_test), pd.DataFrame(y_test), y_pred_df], axis=1)\n",
    "estimar"
   ]
  },
  {
   "cell_type": "code",
   "execution_count": 43,
   "id": "97c8eb90-48a9-4a84-9df0-52470638b1ce",
   "metadata": {
    "colab": {
     "base_uri": "https://localhost:8080/",
     "height": 472
    },
    "id": "97c8eb90-48a9-4a84-9df0-52470638b1ce",
    "outputId": "e5a0fcba-1601-434b-9a74-8bc5076d883e"
   },
   "outputs": [
    {
     "data": {
      "text/plain": [
       "<sklearn.metrics._plot.confusion_matrix.ConfusionMatrixDisplay at 0x141f74790>"
      ]
     },
     "execution_count": 43,
     "metadata": {},
     "output_type": "execute_result"
    },
    {
     "data": {
      "image/png": "[encoded data removed]",
      "text/plain": [
       "<Figure size 640x480 with 2 Axes>"
      ]
     },
     "metadata": {},
     "output_type": "display_data"
    }
   ],
   "source": [
    "matrix = ConfusionMatrixDisplay(confusion_matrix(pd.DataFrame(y_test), y_pred_df))\n",
    "matrix.plot()"
   ]
  },
  {
   "cell_type": "code",
   "execution_count": 44,
   "id": "8c936892-daa3-4d56-adb2-915ad91ef454",
   "metadata": {
    "colab": {
     "base_uri": "https://localhost:8080/"
    },
    "id": "8c936892-daa3-4d56-adb2-915ad91ef454",
    "outputId": "607b3d06-e0c8-4946-fe59-369bf93d125c"
   },
   "outputs": [
    {
     "name": "stdout",
     "output_type": "stream",
     "text": [
      "              precision    recall  f1-score   support\n",
      "\n",
      "           0       0.00      0.00      0.00       125\n",
      "           1       0.02      1.00      0.03       161\n",
      "           2       0.00      0.00      0.00       214\n",
      "           3       0.00      0.00      0.00       212\n",
      "           4       0.00      0.00      0.00       259\n",
      "           5       0.00      0.00      0.00       245\n",
      "           6       0.00      0.00      0.00       294\n",
      "           7       0.00      0.00      0.00       242\n",
      "           8       0.00      0.00      0.00       238\n",
      "           9       0.00      0.00      0.00       242\n",
      "          10       0.00      0.00      0.00       254\n",
      "          11       0.00      0.00      0.00       254\n",
      "          12       0.00      0.00      0.00       227\n",
      "          13       0.00      0.00      0.00       241\n",
      "          14       0.00      0.00      0.00       248\n",
      "          15       0.00      0.00      0.00       231\n",
      "          16       0.00      0.00      0.00       273\n",
      "          17       0.00      0.00      0.00       265\n",
      "          18       0.00      0.00      0.00       254\n",
      "          19       0.00      0.00      0.00       300\n",
      "          20       0.00      0.00      0.00       259\n",
      "          21       0.00      0.00      0.00       249\n",
      "          22       0.00      0.00      0.00       237\n",
      "          23       0.00      0.00      0.00       248\n",
      "          24       0.00      0.00      0.00       240\n",
      "          25       0.00      0.00      0.00       239\n",
      "          26       0.00      0.00      0.00       216\n",
      "          27       0.00      0.00      0.00       202\n",
      "          28       0.00      0.00      0.00       227\n",
      "          29       0.00      0.00      0.00       198\n",
      "          30       0.00      0.00      0.00       209\n",
      "          31       0.00      0.00      0.00       171\n",
      "          32       0.00      0.00      0.00       154\n",
      "          33       0.00      0.00      0.00       192\n",
      "          34       0.00      0.00      0.00       170\n",
      "          35       0.00      0.00      0.00       143\n",
      "          36       0.00      0.00      0.00       130\n",
      "          37       0.00      0.00      0.00       113\n",
      "          38       0.00      0.00      0.00       130\n",
      "          39       0.00      0.00      0.00       107\n",
      "          40       0.00      0.00      0.00       124\n",
      "          41       0.00      0.00      0.00       110\n",
      "          42       0.00      0.00      0.00       103\n",
      "          43       0.00      0.00      0.00        89\n",
      "          44       0.00      0.00      0.00        96\n",
      "          45       0.00      0.00      0.00        77\n",
      "          46       0.00      0.00      0.00        72\n",
      "          47       0.00      0.00      0.00        67\n",
      "          48       0.00      0.00      0.00        49\n",
      "          49       0.00      0.00      0.00        43\n",
      "          50       0.00      0.00      0.00        39\n",
      "          51       0.00      0.00      0.00        36\n",
      "          52       0.00      0.00      0.00        28\n",
      "          53       0.00      0.00      0.00        33\n",
      "          54       0.00      0.00      0.00        29\n",
      "          55       0.00      0.00      0.00        15\n",
      "          56       0.00      0.00      0.00        19\n",
      "          57       0.00      0.00      0.00        18\n",
      "          58       0.00      0.00      0.00        19\n",
      "          59       0.00      0.00      0.00        16\n",
      "          60       0.00      0.00      0.00        17\n",
      "          61       0.00      0.00      0.00         7\n",
      "          62       0.00      0.00      0.00         8\n",
      "          63       0.00      0.00      0.00         9\n",
      "          64       0.00      0.00      0.00         9\n",
      "          65       0.00      0.00      0.00         2\n",
      "          66       0.00      0.00      0.00         3\n",
      "          67       0.00      0.00      0.00         2\n",
      "          71       0.00      0.00      0.00         2\n",
      "          73       0.00      0.00      0.00        15\n",
      "\n",
      "    accuracy                           0.02      9769\n",
      "   macro avg       0.00      0.01      0.00      9769\n",
      "weighted avg       0.00      0.02      0.00      9769\n",
      "\n"
     ]
    },
    {
     "name": "stderr",
     "output_type": "stream",
     "text": [
      "/opt/anaconda3/lib/python3.11/site-packages/sklearn/metrics/_classification.py:1531: UndefinedMetricWarning: Precision is ill-defined and being set to 0.0 in labels with no predicted samples. Use `zero_division` parameter to control this behavior.\n",
      "  _warn_prf(average, modifier, f\"{metric.capitalize()} is\", len(result))\n",
      "/opt/anaconda3/lib/python3.11/site-packages/sklearn/metrics/_classification.py:1531: UndefinedMetricWarning: Precision is ill-defined and being set to 0.0 in labels with no predicted samples. Use `zero_division` parameter to control this behavior.\n",
      "  _warn_prf(average, modifier, f\"{metric.capitalize()} is\", len(result))\n",
      "/opt/anaconda3/lib/python3.11/site-packages/sklearn/metrics/_classification.py:1531: UndefinedMetricWarning: Precision is ill-defined and being set to 0.0 in labels with no predicted samples. Use `zero_division` parameter to control this behavior.\n",
      "  _warn_prf(average, modifier, f\"{metric.capitalize()} is\", len(result))\n"
     ]
    }
   ],
   "source": [
    "print(classification_report(y_test, y_pred_df))"
   ]
  },
  {
   "cell_type": "code",
   "execution_count": 53,
   "id": "8fda734c",
   "metadata": {},
   "outputs": [
    {
     "name": "stdout",
     "output_type": "stream",
     "text": [
      "Epoch 1/50\n"
     ]
    },
    {
     "name": "stderr",
     "output_type": "stream",
     "text": [
      "/opt/anaconda3/lib/python3.11/site-packages/keras/src/layers/core/dense.py:87: UserWarning: Do not pass an `input_shape`/`input_dim` argument to a layer. When using Sequential models, prefer using an `Input(shape)` object as the first layer in the model instead.\n",
      "  super().__init__(activity_regularizer=activity_regularizer, **kwargs)\n"
     ]
    },
    {
     "name": "stdout",
     "output_type": "stream",
     "text": [
      "\u001b[1m11/11\u001b[0m \u001b[32m━━━━━━━━━━━━━━━━━━━━\u001b[0m\u001b[37m\u001b[0m \u001b[1m2s\u001b[0m 23ms/step - accuracy: 0.3430 - loss: 0.3476 - val_accuracy: 0.2889 - val_loss: 0.0183\n",
      "Epoch 2/50\n",
      "\u001b[1m11/11\u001b[0m \u001b[32m━━━━━━━━━━━━━━━━━━━━\u001b[0m\u001b[37m\u001b[0m \u001b[1m0s\u001b[0m 7ms/step - accuracy: 0.3947 - loss: -0.3941 - val_accuracy: 0.2889 - val_loss: -0.3563\n",
      "Epoch 3/50\n",
      "\u001b[1m11/11\u001b[0m \u001b[32m━━━━━━━━━━━━━━━━━━━━\u001b[0m\u001b[37m\u001b[0m \u001b[1m0s\u001b[0m 6ms/step - accuracy: 0.4294 - loss: -1.1212 - val_accuracy: 0.2889 - val_loss: -0.6699\n",
      "Epoch 4/50\n",
      "\u001b[1m11/11\u001b[0m \u001b[32m━━━━━━━━━━━━━━━━━━━━\u001b[0m\u001b[37m\u001b[0m \u001b[1m0s\u001b[0m 6ms/step - accuracy: 0.3393 - loss: -1.5195 - val_accuracy: 0.2889 - val_loss: -1.0248\n",
      "Epoch 5/50\n",
      "\u001b[1m11/11\u001b[0m \u001b[32m━━━━━━━━━━━━━━━━━━━━\u001b[0m\u001b[37m\u001b[0m \u001b[1m0s\u001b[0m 6ms/step - accuracy: 0.3765 - loss: -1.6711 - val_accuracy: 0.2889 - val_loss: -1.4253\n",
      "Epoch 6/50\n",
      "\u001b[1m11/11\u001b[0m \u001b[32m━━━━━━━━━━━━━━━━━━━━\u001b[0m\u001b[37m\u001b[0m \u001b[1m0s\u001b[0m 6ms/step - accuracy: 0.3916 - loss: -2.6879 - val_accuracy: 0.2889 - val_loss: -1.8974\n",
      "Epoch 7/50\n",
      "\u001b[1m11/11\u001b[0m \u001b[32m━━━━━━━━━━━━━━━━━━━━\u001b[0m\u001b[37m\u001b[0m \u001b[1m0s\u001b[0m 6ms/step - accuracy: 0.3974 - loss: -2.6028 - val_accuracy: 0.2889 - val_loss: -2.5113\n",
      "Epoch 8/50\n",
      "\u001b[1m11/11\u001b[0m \u001b[32m━━━━━━━━━━━━━━━━━━━━\u001b[0m\u001b[37m\u001b[0m \u001b[1m0s\u001b[0m 5ms/step - accuracy: 0.3580 - loss: -3.8541 - val_accuracy: 0.2889 - val_loss: -3.2112\n",
      "Epoch 9/50\n",
      "\u001b[1m11/11\u001b[0m \u001b[32m━━━━━━━━━━━━━━━━━━━━\u001b[0m\u001b[37m\u001b[0m \u001b[1m0s\u001b[0m 7ms/step - accuracy: 0.3117 - loss: -4.9365 - val_accuracy: 0.2889 - val_loss: -4.0344\n",
      "Epoch 10/50\n",
      "\u001b[1m11/11\u001b[0m \u001b[32m━━━━━━━━━━━━━━━━━━━━\u001b[0m\u001b[37m\u001b[0m \u001b[1m0s\u001b[0m 6ms/step - accuracy: 0.3678 - loss: -5.2161 - val_accuracy: 0.2889 - val_loss: -4.9711\n",
      "Epoch 11/50\n",
      "\u001b[1m11/11\u001b[0m \u001b[32m━━━━━━━━━━━━━━━━━━━━\u001b[0m\u001b[37m\u001b[0m \u001b[1m0s\u001b[0m 6ms/step - accuracy: 0.3263 - loss: -9.2589 - val_accuracy: 0.2889 - val_loss: -6.1068\n",
      "Epoch 12/50\n",
      "\u001b[1m11/11\u001b[0m \u001b[32m━━━━━━━━━━━━━━━━━━━━\u001b[0m\u001b[37m\u001b[0m \u001b[1m0s\u001b[0m 7ms/step - accuracy: 0.3316 - loss: -8.5660 - val_accuracy: 0.2889 - val_loss: -7.4186\n",
      "Epoch 13/50\n",
      "\u001b[1m11/11\u001b[0m \u001b[32m━━━━━━━━━━━━━━━━━━━━\u001b[0m\u001b[37m\u001b[0m \u001b[1m0s\u001b[0m 6ms/step - accuracy: 0.3458 - loss: -12.7349 - val_accuracy: 0.2889 - val_loss: -8.9871\n",
      "Epoch 14/50\n",
      "\u001b[1m11/11\u001b[0m \u001b[32m━━━━━━━━━━━━━━━━━━━━\u001b[0m\u001b[37m\u001b[0m \u001b[1m0s\u001b[0m 6ms/step - accuracy: 0.3985 - loss: -11.7429 - val_accuracy: 0.2889 - val_loss: -10.7742\n",
      "Epoch 15/50\n",
      "\u001b[1m11/11\u001b[0m \u001b[32m━━━━━━━━━━━━━━━━━━━━\u001b[0m\u001b[37m\u001b[0m \u001b[1m0s\u001b[0m 6ms/step - accuracy: 0.3550 - loss: -16.6468 - val_accuracy: 0.2889 - val_loss: -13.0109\n",
      "Epoch 16/50\n",
      "\u001b[1m11/11\u001b[0m \u001b[32m━━━━━━━━━━━━━━━━━━━━\u001b[0m\u001b[37m\u001b[0m \u001b[1m0s\u001b[0m 7ms/step - accuracy: 0.2946 - loss: -18.9245 - val_accuracy: 0.2889 - val_loss: -15.4853\n",
      "Epoch 17/50\n",
      "\u001b[1m11/11\u001b[0m \u001b[32m━━━━━━━━━━━━━━━━━━━━\u001b[0m\u001b[37m\u001b[0m \u001b[1m0s\u001b[0m 5ms/step - accuracy: 0.3535 - loss: -22.1557 - val_accuracy: 0.2889 - val_loss: -18.3386\n",
      "Epoch 18/50\n",
      "\u001b[1m11/11\u001b[0m \u001b[32m━━━━━━━━━━━━━━━━━━━━\u001b[0m\u001b[37m\u001b[0m \u001b[1m0s\u001b[0m 5ms/step - accuracy: 0.3706 - loss: -24.2912 - val_accuracy: 0.2889 - val_loss: -21.6710\n",
      "Epoch 19/50\n",
      "\u001b[1m11/11\u001b[0m \u001b[32m━━━━━━━━━━━━━━━━━━━━\u001b[0m\u001b[37m\u001b[0m \u001b[1m0s\u001b[0m 5ms/step - accuracy: 0.3800 - loss: -27.6870 - val_accuracy: 0.2889 - val_loss: -25.3931\n",
      "Epoch 20/50\n",
      "\u001b[1m11/11\u001b[0m \u001b[32m━━━━━━━━━━━━━━━━━━━━\u001b[0m\u001b[37m\u001b[0m \u001b[1m0s\u001b[0m 7ms/step - accuracy: 0.3439 - loss: -34.8851 - val_accuracy: 0.2889 - val_loss: -29.2435\n",
      "Epoch 21/50\n",
      "\u001b[1m11/11\u001b[0m \u001b[32m━━━━━━━━━━━━━━━━━━━━\u001b[0m\u001b[37m\u001b[0m \u001b[1m0s\u001b[0m 5ms/step - accuracy: 0.4011 - loss: -35.7763 - val_accuracy: 0.2889 - val_loss: -33.8784\n",
      "Epoch 22/50\n",
      "\u001b[1m11/11\u001b[0m \u001b[32m━━━━━━━━━━━━━━━━━━━━\u001b[0m\u001b[37m\u001b[0m \u001b[1m0s\u001b[0m 6ms/step - accuracy: 0.2942 - loss: -50.9334 - val_accuracy: 0.2889 - val_loss: -39.1060\n",
      "Epoch 23/50\n",
      "\u001b[1m11/11\u001b[0m \u001b[32m━━━━━━━━━━━━━━━━━━━━\u001b[0m\u001b[37m\u001b[0m \u001b[1m0s\u001b[0m 7ms/step - accuracy: 0.3670 - loss: -56.6194 - val_accuracy: 0.2889 - val_loss: -44.5162\n",
      "Epoch 24/50\n",
      "\u001b[1m11/11\u001b[0m \u001b[32m━━━━━━━━━━━━━━━━━━━━\u001b[0m\u001b[37m\u001b[0m \u001b[1m0s\u001b[0m 7ms/step - accuracy: 0.3264 - loss: -73.0357 - val_accuracy: 0.2889 - val_loss: -50.4919\n",
      "Epoch 25/50\n",
      "\u001b[1m11/11\u001b[0m \u001b[32m━━━━━━━━━━━━━━━━━━━━\u001b[0m\u001b[37m\u001b[0m \u001b[1m0s\u001b[0m 7ms/step - accuracy: 0.3997 - loss: -55.1758 - val_accuracy: 0.2889 - val_loss: -56.6699\n",
      "Epoch 26/50\n",
      "\u001b[1m11/11\u001b[0m \u001b[32m━━━━━━━━━━━━━━━━━━━━\u001b[0m\u001b[37m\u001b[0m \u001b[1m0s\u001b[0m 6ms/step - accuracy: 0.3780 - loss: -94.8012 - val_accuracy: 0.2889 - val_loss: -63.4734\n",
      "Epoch 27/50\n",
      "\u001b[1m11/11\u001b[0m \u001b[32m━━━━━━━━━━━━━━━━━━━━\u001b[0m\u001b[37m\u001b[0m \u001b[1m0s\u001b[0m 6ms/step - accuracy: 0.3581 - loss: -84.3227 - val_accuracy: 0.2889 - val_loss: -70.9708\n",
      "Epoch 28/50\n",
      "\u001b[1m11/11\u001b[0m \u001b[32m━━━━━━━━━━━━━━━━━━━━\u001b[0m\u001b[37m\u001b[0m \u001b[1m0s\u001b[0m 7ms/step - accuracy: 0.3695 - loss: -91.4822 - val_accuracy: 0.2889 - val_loss: -78.7931\n",
      "Epoch 29/50\n",
      "\u001b[1m11/11\u001b[0m \u001b[32m━━━━━━━━━━━━━━━━━━━━\u001b[0m\u001b[37m\u001b[0m \u001b[1m0s\u001b[0m 6ms/step - accuracy: 0.3695 - loss: -101.5950 - val_accuracy: 0.2889 - val_loss: -87.5171\n",
      "Epoch 30/50\n",
      "\u001b[1m11/11\u001b[0m \u001b[32m━━━━━━━━━━━━━━━━━━━━\u001b[0m\u001b[37m\u001b[0m \u001b[1m0s\u001b[0m 5ms/step - accuracy: 0.3578 - loss: -130.4845 - val_accuracy: 0.2889 - val_loss: -96.9532\n",
      "Epoch 31/50\n",
      "\u001b[1m11/11\u001b[0m \u001b[32m━━━━━━━━━━━━━━━━━━━━\u001b[0m\u001b[37m\u001b[0m \u001b[1m0s\u001b[0m 7ms/step - accuracy: 0.3494 - loss: -138.5587 - val_accuracy: 0.2889 - val_loss: -106.7816\n",
      "Epoch 32/50\n",
      "\u001b[1m11/11\u001b[0m \u001b[32m━━━━━━━━━━━━━━━━━━━━\u001b[0m\u001b[37m\u001b[0m \u001b[1m0s\u001b[0m 5ms/step - accuracy: 0.3819 - loss: -137.3953 - val_accuracy: 0.2889 - val_loss: -117.4404\n",
      "Epoch 33/50\n",
      "\u001b[1m11/11\u001b[0m \u001b[32m━━━━━━━━━━━━━━━━━━━━\u001b[0m\u001b[37m\u001b[0m \u001b[1m0s\u001b[0m 6ms/step - accuracy: 0.3451 - loss: -176.2863 - val_accuracy: 0.2889 - val_loss: -129.0432\n",
      "Epoch 34/50\n",
      "\u001b[1m11/11\u001b[0m \u001b[32m━━━━━━━━━━━━━━━━━━━━\u001b[0m\u001b[37m\u001b[0m \u001b[1m0s\u001b[0m 7ms/step - accuracy: 0.3310 - loss: -198.8626 - val_accuracy: 0.2889 - val_loss: -141.0218\n",
      "Epoch 35/50\n",
      "\u001b[1m11/11\u001b[0m \u001b[32m━━━━━━━━━━━━━━━━━━━━\u001b[0m\u001b[37m\u001b[0m \u001b[1m0s\u001b[0m 7ms/step - accuracy: 0.2920 - loss: -199.8890 - val_accuracy: 0.2889 - val_loss: -154.1404\n",
      "Epoch 36/50\n",
      "\u001b[1m11/11\u001b[0m \u001b[32m━━━━━━━━━━━━━━━━━━━━\u001b[0m\u001b[37m\u001b[0m \u001b[1m0s\u001b[0m 8ms/step - accuracy: 0.3415 - loss: -222.1901 - val_accuracy: 0.2889 - val_loss: -167.6801\n",
      "Epoch 37/50\n",
      "\u001b[1m11/11\u001b[0m \u001b[32m━━━━━━━━━━━━━━━━━━━━\u001b[0m\u001b[37m\u001b[0m \u001b[1m0s\u001b[0m 7ms/step - accuracy: 0.3550 - loss: -181.7269 - val_accuracy: 0.2889 - val_loss: -182.8837\n",
      "Epoch 38/50\n",
      "\u001b[1m11/11\u001b[0m \u001b[32m━━━━━━━━━━━━━━━━━━━━\u001b[0m\u001b[37m\u001b[0m \u001b[1m0s\u001b[0m 7ms/step - accuracy: 0.3826 - loss: -209.3389 - val_accuracy: 0.2889 - val_loss: -198.6108\n",
      "Epoch 39/50\n",
      "\u001b[1m11/11\u001b[0m \u001b[32m━━━━━━━━━━━━━━━━━━━━\u001b[0m\u001b[37m\u001b[0m \u001b[1m0s\u001b[0m 8ms/step - accuracy: 0.3380 - loss: -261.8598 - val_accuracy: 0.2889 - val_loss: -215.7245\n",
      "Epoch 40/50\n",
      "\u001b[1m11/11\u001b[0m \u001b[32m━━━━━━━━━━━━━━━━━━━━\u001b[0m\u001b[37m\u001b[0m \u001b[1m0s\u001b[0m 6ms/step - accuracy: 0.3525 - loss: -255.6425 - val_accuracy: 0.2889 - val_loss: -234.0422\n",
      "Epoch 41/50\n",
      "\u001b[1m11/11\u001b[0m \u001b[32m━━━━━━━━━━━━━━━━━━━━\u001b[0m\u001b[37m\u001b[0m \u001b[1m0s\u001b[0m 5ms/step - accuracy: 0.3726 - loss: -327.3160 - val_accuracy: 0.2889 - val_loss: -251.6966\n",
      "Epoch 42/50\n",
      "\u001b[1m11/11\u001b[0m \u001b[32m━━━━━━━━━━━━━━━━━━━━\u001b[0m\u001b[37m\u001b[0m \u001b[1m0s\u001b[0m 5ms/step - accuracy: 0.3359 - loss: -363.9370 - val_accuracy: 0.2889 - val_loss: -273.9230\n",
      "Epoch 43/50\n",
      "\u001b[1m11/11\u001b[0m \u001b[32m━━━━━━━━━━━━━━━━━━━━\u001b[0m\u001b[37m\u001b[0m \u001b[1m0s\u001b[0m 6ms/step - accuracy: 0.2742 - loss: -434.0645 - val_accuracy: 0.2889 - val_loss: -295.9638\n",
      "Epoch 44/50\n",
      "\u001b[1m11/11\u001b[0m \u001b[32m━━━━━━━━━━━━━━━━━━━━\u001b[0m\u001b[37m\u001b[0m \u001b[1m0s\u001b[0m 8ms/step - accuracy: 0.3131 - loss: -489.2205 - val_accuracy: 0.2889 - val_loss: -317.7985\n",
      "Epoch 45/50\n",
      "\u001b[1m11/11\u001b[0m \u001b[32m━━━━━━━━━━━━━━━━━━━━\u001b[0m\u001b[37m\u001b[0m \u001b[1m0s\u001b[0m 6ms/step - accuracy: 0.4172 - loss: -412.2900 - val_accuracy: 0.2889 - val_loss: -341.3987\n",
      "Epoch 46/50\n",
      "\u001b[1m11/11\u001b[0m \u001b[32m━━━━━━━━━━━━━━━━━━━━\u001b[0m\u001b[37m\u001b[0m \u001b[1m0s\u001b[0m 5ms/step - accuracy: 0.3289 - loss: -456.4921 - val_accuracy: 0.2889 - val_loss: -367.1219\n",
      "Epoch 47/50\n",
      "\u001b[1m11/11\u001b[0m \u001b[32m━━━━━━━━━━━━━━━━━━━━\u001b[0m\u001b[37m\u001b[0m \u001b[1m0s\u001b[0m 4ms/step - accuracy: 0.3099 - loss: -417.1542 - val_accuracy: 0.2889 - val_loss: -392.8932\n",
      "Epoch 48/50\n",
      "\u001b[1m11/11\u001b[0m \u001b[32m━━━━━━━━━━━━━━━━━━━━\u001b[0m\u001b[37m\u001b[0m \u001b[1m0s\u001b[0m 6ms/step - accuracy: 0.3661 - loss: -529.7442 - val_accuracy: 0.2889 - val_loss: -420.2502\n",
      "Epoch 49/50\n",
      "\u001b[1m11/11\u001b[0m \u001b[32m━━━━━━━━━━━━━━━━━━━━\u001b[0m\u001b[37m\u001b[0m \u001b[1m0s\u001b[0m 6ms/step - accuracy: 0.3952 - loss: -621.2761 - val_accuracy: 0.2889 - val_loss: -447.7402\n",
      "Epoch 50/50\n"
     ]
    },
    {
     "name": "stdout",
     "output_type": "stream",
     "text": [
      "\u001b[1m11/11\u001b[0m \u001b[32m━━━━━━━━━━━━━━━━━━━━\u001b[0m\u001b[37m\u001b[0m \u001b[1m0s\u001b[0m 6ms/step - accuracy: 0.3294 - loss: -677.9836 - val_accuracy: 0.2889 - val_loss: -478.2778\n",
      "\u001b[1m2/2\u001b[0m \u001b[32m━━━━━━━━━━━━━━━━━━━━\u001b[0m\u001b[37m\u001b[0m \u001b[1m0s\u001b[0m 38ms/step\n",
      "Exactitud: 0.2889\n"
     ]
    }
   ],
   "source": [
    "# Crear el modelo de red neuronal multicapa\n",
    "#Ahora crearemos una red con múltiples capas ocultas:\n",
    "model_multilayer = Sequential()\n",
    "model_multilayer.add(Dense(64, input_dim=X_train.shape[1], activation='relu'))  # Primera capa oculta\n",
    "model_multilayer.add(Dense(32, activation='relu'))  # Segunda capa oculta\n",
    "model_multilayer.add(Dense(1, activation='sigmoid'))  # Capa de salida\n",
    "\n",
    "# Compilar el modelo\n",
    "model_multilayer.compile(optimizer='adam', loss='binary_crossentropy', metrics=['accuracy'])\n",
    "\n",
    "# Entrenar el modelo\n",
    "model_multilayer.fit(X_train, y_train, epochs=50, batch_size=10, validation_data=(X_test, y_test))\n",
    "\n",
    "# Evaluar el modelo\n",
    "y_pred_multilayer = (model_multilayer.predict(X_test) > 0.5).astype(\"int32\")\n",
    "accuracy_multilayer = accuracy_score(y_test, y_pred_multilayer)\n",
    "print(f'Exactitud: {accuracy_multilayer:.4f}')\n"
   ]
  },
  {
   "cell_type": "code",
   "execution_count": 52,
   "id": "2fb45593",
   "metadata": {},
   "outputs": [
    {
     "name": "stdout",
     "output_type": "stream",
     "text": [
      "Kernel: Linear, Exactitud: 1.0000\n",
      "Kernel: Polynomial, Exactitud: 0.9778\n",
      "Kernel: RBF, Exactitud: 1.0000\n",
      "Kernel: Sigmoid, Exactitud: 0.2222\n"
     ]
    }
   ],
   "source": [
    "#Implementación de SVM con Diferentes Kernels\n",
    "from sklearn.svm import SVC\n",
    "from sklearn.metrics import classification_report\n",
    "\n",
    "# Crear un diccionario para almacenar los resultados\n",
    "results = {}\n",
    "\n",
    "# Kernel Lineal\n",
    "svm_linear = SVC(kernel='linear')\n",
    "svm_linear.fit(X_train, y_train)\n",
    "y_pred_linear = svm_linear.predict(X_test)\n",
    "results['Linear'] = accuracy_score(y_test, y_pred_linear)\n",
    "\n",
    "# Kernel Polinomial\n",
    "svm_poly = SVC(kernel='poly')\n",
    "svm_poly.fit(X_train, y_train)\n",
    "y_pred_poly = svm_poly.predict(X_test)\n",
    "results['Polynomial'] = accuracy_score(y_test, y_pred_poly)\n",
    "\n",
    "# Kernel RBF\n",
    "svm_rbf = SVC(kernel='rbf')\n",
    "svm_rbf.fit(X_train, y_train)\n",
    "y_pred_rbf = svm_rbf.predict(X_test)\n",
    "results['RBF'] = accuracy_score(y_test, y_pred_rbf)\n",
    "\n",
    "# Kernel Sigmoidal\n",
    "svm_sigmoid = SVC(kernel='sigmoid')\n",
    "svm_sigmoid.fit(X_train, y_train)\n",
    "y_pred_sigmoid = svm_sigmoid.predict(X_test)\n",
    "results['Sigmoid'] = accuracy_score(y_test, y_pred_sigmoid)\n",
    "\n",
    "# Mostrar los resultados\n",
    "for kernel, accuracy in results.items():\n",
    "    print(f'Kernel: {kernel}, Exactitud: {accuracy:.4f}')\n"
   ]
  },
  {
   "cell_type": "code",
   "execution_count": null,
   "id": "b8ab889b",
   "metadata": {},
   "outputs": [],
   "source": [
    "##Despliegue Local del Mejor Modelo"
   ]
  },
  {
   "cell_type": "code",
   "execution_count": 55,
   "id": "4494d7c1",
   "metadata": {},
   "outputs": [
    {
     "data": {
      "text/plain": [
       "['mejor_modelo.pkl']"
      ]
     },
     "execution_count": 55,
     "metadata": {},
     "output_type": "execute_result"
    }
   ],
   "source": [
    "from sklearn.datasets import load_iris\n",
    "from sklearn.model_selection import train_test_split\n",
    "from sklearn.svm import SVC\n",
    "import joblib\n",
    "\n",
    "# Se cargar datos de data_proyecto.csv\n",
    "data = load_iris()\n",
    "X = data.data\n",
    "y = data.target\n",
    "\n",
    "# Dividimos los datos en entrenamiento y prueba\n",
    "X_train, X_test, y_train, y_test = train_test_split(X, y, test_size=0.3, random_state=42)\n",
    "\n",
    "# Entrenamos el modelo\n",
    "model = SVC(kernel='linear')\n",
    "model.fit(X_train, y_train)\n",
    "\n",
    "# Guardamos el modelo con el nombre asignado\n",
    "joblib.dump(model, 'mejor_modelo.pkl')\n"
   ]
  },
  {
   "cell_type": "code",
   "execution_count": 56,
   "id": "b0d14c14",
   "metadata": {},
   "outputs": [],
   "source": [
    "#Despliegue Local con Flask e instalacion"
   ]
  },
  {
   "cell_type": "code",
   "execution_count": 57,
   "id": "ca88c5b1",
   "metadata": {},
   "outputs": [
    {
     "name": "stdout",
     "output_type": "stream",
     "text": [
      "Requirement already satisfied: flask in /opt/anaconda3/lib/python3.11/site-packages (3.0.3)\n",
      "Requirement already satisfied: joblib in /opt/anaconda3/lib/python3.11/site-packages (1.4.2)\n",
      "Requirement already satisfied: Werkzeug>=3.0.0 in /opt/anaconda3/lib/python3.11/site-packages (from flask) (3.0.3)\n",
      "Requirement already satisfied: Jinja2>=3.1.2 in /opt/anaconda3/lib/python3.11/site-packages (from flask) (3.1.4)\n",
      "Requirement already satisfied: itsdangerous>=2.1.2 in /opt/anaconda3/lib/python3.11/site-packages (from flask) (2.2.0)\n",
      "Requirement already satisfied: click>=8.1.3 in /opt/anaconda3/lib/python3.11/site-packages (from flask) (8.1.7)\n",
      "Requirement already satisfied: blinker>=1.6.2 in /opt/anaconda3/lib/python3.11/site-packages (from flask) (1.6.2)\n",
      "Requirement already satisfied: MarkupSafe>=2.0 in /opt/anaconda3/lib/python3.11/site-packages (from Jinja2>=3.1.2->flask) (2.1.3)\n",
      "Note: you may need to restart the kernel to use updated packages.\n"
     ]
    }
   ],
   "source": [
    "pip install flask joblib"
   ]
  },
  {
   "cell_type": "code",
   "execution_count": 58,
   "id": "e59e7d8d",
   "metadata": {},
   "outputs": [
    {
     "data": {
      "text/plain": [
       "['mejor_modelo.pkl']"
      ]
     },
     "execution_count": 58,
     "metadata": {},
     "output_type": "execute_result"
    }
   ],
   "source": [
    "import joblib\n",
    "\n",
    "# Determinamos que 'model' es nuestro modelo entrenado\n",
    "joblib.dump(model, 'mejor_modelo.pkl')\n"
   ]
  },
  {
   "cell_type": "code",
   "execution_count": 59,
   "id": "5ce13203",
   "metadata": {},
   "outputs": [],
   "source": [
    "\n",
    "# Se crear un diccionario para almacenar los resultados\n",
    "results = {}"
   ]
  },
  {
   "cell_type": "code",
   "execution_count": 60,
   "id": "4cd36003",
   "metadata": {},
   "outputs": [
    {
     "data": {
      "text/plain": [
       "['../estudio_caso_IA/mejor_modelo.pkl']"
      ]
     },
     "execution_count": 60,
     "metadata": {},
     "output_type": "execute_result"
    }
   ],
   "source": [
    "joblib.dump(model, '../estudio_caso_IA/mejor_modelo.pkl')\n"
   ]
  },
  {
   "cell_type": "code",
   "execution_count": 61,
   "id": "60e41254",
   "metadata": {},
   "outputs": [],
   "source": [
    "import joblib\n",
    "\n",
    "# Cargar el modelo desde el archivo .pkl\n",
    "model = joblib.load('mejor_modelo.pkl')\n",
    "\n",
    "# Ahora puedes usar el modelo para hacer predicciones o cualquier otra tarea\n"
   ]
  },
  {
   "cell_type": "code",
   "execution_count": 62,
   "id": "94f2af4b",
   "metadata": {},
   "outputs": [
    {
     "name": "stdout",
     "output_type": "stream",
     "text": [
      " * Serving Flask app '__main__'\n",
      " * Debug mode: on\n"
     ]
    },
    {
     "name": "stderr",
     "output_type": "stream",
     "text": [
      "WARNING: This is a development server. Do not use it in a production deployment. Use a production WSGI server instead.\n",
      " * Running on http://127.0.0.1:6000\n",
      "Press CTRL+C to quit\n",
      " * Restarting with watchdog (fsevents)\n",
      "0.00s - Debugger warning: It seems that frozen modules are being used, which may\n",
      "0.00s - make the debugger miss breakpoints. Please pass -Xfrozen_modules=off\n",
      "0.00s - to python to disable frozen modules.\n",
      "0.00s - Note: Debugging will proceed. Set PYDEVD_DISABLE_FILE_VALIDATION=1 to disable this validation.\n",
      "Traceback (most recent call last):\n",
      "  File \"<frozen runpy>\", line 198, in _run_module_as_main\n",
      "  File \"<frozen runpy>\", line 88, in _run_code\n",
      "  File \"/opt/anaconda3/lib/python3.11/site-packages/ipykernel_launcher.py\", line 17, in <module>\n",
      "    app.launch_new_instance()\n",
      "  File \"/opt/anaconda3/lib/python3.11/site-packages/traitlets/config/application.py\", line 1074, in launch_instance\n",
      "    app.initialize(argv)\n",
      "  File \"/opt/anaconda3/lib/python3.11/site-packages/traitlets/config/application.py\", line 118, in inner\n",
      "    return method(app, *args, **kwargs)\n",
      "           ^^^^^^^^^^^^^^^^^^^^^^^^^^^^\n",
      "  File \"/opt/anaconda3/lib/python3.11/site-packages/ipykernel/kernelapp.py\", line 654, in initialize\n",
      "    self.init_sockets()\n",
      "  File \"/opt/anaconda3/lib/python3.11/site-packages/ipykernel/kernelapp.py\", line 331, in init_sockets\n",
      "    self.shell_port = self._bind_socket(self.shell_socket, self.shell_port)\n",
      "                      ^^^^^^^^^^^^^^^^^^^^^^^^^^^^^^^^^^^^^^^^^^^^^^^^^^^^^\n",
      "  File \"/opt/anaconda3/lib/python3.11/site-packages/ipykernel/kernelapp.py\", line 253, in _bind_socket\n",
      "    return self._try_bind_socket(s, port)\n",
      "           ^^^^^^^^^^^^^^^^^^^^^^^^^^^^^^\n",
      "  File \"/opt/anaconda3/lib/python3.11/site-packages/ipykernel/kernelapp.py\", line 229, in _try_bind_socket\n",
      "    s.bind(\"tcp://%s:%i\" % (self.ip, port))\n",
      "  File \"/opt/anaconda3/lib/python3.11/site-packages/zmq/sugar/socket.py\", line 302, in bind\n",
      "    super().bind(addr)\n",
      "  File \"zmq/backend/cython/socket.pyx\", line 564, in zmq.backend.cython.socket.Socket.bind\n",
      "  File \"zmq/backend/cython/checkrc.pxd\", line 28, in zmq.backend.cython.checkrc._check_rc\n",
      "zmq.error.ZMQError: Address already in use (addr='tcp://127.0.0.1:56409')\n"
     ]
    },
    {
     "ename": "SystemExit",
     "evalue": "1",
     "output_type": "error",
     "traceback": [
      "An exception has occurred, use %tb to see the full traceback.\n",
      "\u001b[0;31mSystemExit\u001b[0m\u001b[0;31m:\u001b[0m 1\n"
     ]
    },
    {
     "name": "stderr",
     "output_type": "stream",
     "text": [
      "/opt/anaconda3/lib/python3.11/site-packages/IPython/core/interactiveshell.py:3585: UserWarning: To exit: use 'exit', 'quit', or Ctrl-D.\n",
      "  warn(\"To exit: use 'exit', 'quit', or Ctrl-D.\", stacklevel=1)\n"
     ]
    }
   ],
   "source": [
    "from flask import Flask, request, jsonify\n",
    "import joblib\n",
    "\n",
    "app = Flask(__name__)\n",
    "\n",
    "# Cargar el modelo\n",
    "model = joblib.load('mejor_modelo.pkl')\n",
    "\n",
    "@app.route('/predict', methods=['POST'])\n",
    "def predict():\n",
    "    data = request.get_json(force=True)\n",
    "    prediction = model.predict([data['input']])\n",
    "    return jsonify({'prediction': prediction.tolist()})\n",
    "\n",
    "if __name__ == '__main__':\n",
    "    app.run(debug=True,port=6000)\n"
   ]
  },
  {
   "cell_type": "code",
   "execution_count": 63,
   "id": "2183b156",
   "metadata": {},
   "outputs": [
    {
     "name": "stdout",
     "output_type": "stream",
     "text": [
      "['CAPA_SIMPLE.ipynb', '~$oyecto en grupo.docx', '.DS_Store', 'requirements.txt', 'estudio de caso.ipynb', 'CAPA_SVM.ipynb', 'app.py', '.ipynb_checkpoints', 'Capa_Multicapa.ipynb', 'data_proyecto.csv', '.git', 'mejor_modelo.pkl']\n"
     ]
    }
   ],
   "source": [
    "\n",
    "import os\n",
    "print(os.listdir('.'))  # Imprime la Lista de los archivos en el directorio actual"
   ]
  },
  {
   "cell_type": "code",
   "execution_count": 64,
   "id": "d3db7664",
   "metadata": {},
   "outputs": [
    {
     "name": "stdout",
     "output_type": "stream",
     "text": [
      "Predicción: [0]\n"
     ]
    }
   ],
   "source": [
    "import joblib\n",
    "\n",
    "# Cargar el modelo\n",
    "model = joblib.load('mejor_modelo.pkl')\n",
    "\n",
    "# Ejemplo de datos de entrada\n",
    "nuevos_datos = [[5.1, 3.5, 1.4, 0.2]]  # para verificar Cambiamos estos datos  por los  que se quiera predecir\n",
    "\n",
    "# Hacer predicciones\n",
    "predicciones = model.predict(nuevos_datos)\n",
    "\n",
    "# Mostrar el resultado\n",
    "print('Predicción:', predicciones)\n"
   ]
  },
  {
   "cell_type": "code",
   "execution_count": 65,
   "id": "d8fabb1c",
   "metadata": {},
   "outputs": [
    {
     "name": "stdout",
     "output_type": "stream",
     "text": [
      "[1]\n"
     ]
    }
   ],
   "source": [
    "# Ejemplo de datos de entrada\n",
    "nuevos_datos = [[6.4, 2.5, 4.4, 0.3]]  # Sustituimos\n",
    "\n",
    "# Realizamos predicciones con el modelo cargado\n",
    "predicciones = model.predict(nuevos_datos)\n",
    "\n",
    "# Mostrar las predicciones\n",
    "print(predicciones)\n"
   ]
  },
  {
   "cell_type": "code",
   "execution_count": 66,
   "id": "16bc8edc",
   "metadata": {},
   "outputs": [
    {
     "name": "stdout",
     "output_type": "stream",
     "text": [
      "[2]\n"
     ]
    }
   ],
   "source": [
    "# Ejemplo de datos de entrada\n",
    "nuevos_datos = [[63.4, 23.5, 44.4, 0.8]]  # Sustituimos esto con datos reales \n",
    "\n",
    "# predicciones con el modelo cargado\n",
    "predicciones = model.predict(nuevos_datos)\n",
    "\n",
    "# Muestra las predicciones\n",
    "print(predicciones)\n"
   ]
  },
  {
   "cell_type": "code",
   "execution_count": 67,
   "id": "d748bb10",
   "metadata": {},
   "outputs": [
    {
     "data": {
      "image/png": "[encoded data removed]",
      "text/plain": [
       "<Figure size 1000x600 with 1 Axes>"
      ]
     },
     "metadata": {},
     "output_type": "display_data"
    },
    {
     "data": {
      "image/png": "[encoded data removed]",
      "text/plain": [
       "<Figure size 800x500 with 1 Axes>"
      ]
     },
     "metadata": {},
     "output_type": "display_data"
    }
   ],
   "source": [
    "# Ejemplo de datos para el gráfico\n",
    "# Los 'nuevos_datos' tiene 4 características y queremos ver su clasificación\n",
    "caracteristicas = ['Característica 1', 'Característica 2', 'Característica 3', 'Característica 4']\n",
    "valores = nuevos_datos[0]  # Tomamos la primera (y única) fila de 'nuevos_datos'\n",
    "\n",
    "# Se crear un gráfico de barras\n",
    "plt.figure(figsize=(10, 6))\n",
    "plt.bar(caracteristicas, valores, color='skyblue')\n",
    "plt.xlabel('Características')\n",
    "plt.ylabel('Valor')\n",
    "plt.title('Valores de Características para Predicción')\n",
    "plt.show()\n",
    "\n",
    "# gráfico de barras para las predicciones\n",
    "plt.figure(figsize=(8, 5))\n",
    "plt.bar(['Predicción'], [predicciones[0]], color='salmon')\n",
    "plt.ylabel('Clase Predicha')\n",
    "plt.title('Predicción del Modelo')\n",
    "plt.show()\n"
   ]
  },
  {
   "cell_type": "code",
   "execution_count": 68,
   "id": "a249f42f",
   "metadata": {},
   "outputs": [
    {
     "data": {
      "image/png": "[encoded data removed]",
      "text/plain": [
       "<Figure size 1000x600 with 1 Axes>"
      ]
     },
     "metadata": {},
     "output_type": "display_data"
    }
   ],
   "source": [
    "import pandas as pd\n",
    "\n",
    "# Ejemplo de datos de prueba (esto sería un DataFrame con las predicciones)\n",
    "# Se tienes las etiquetas verdaderas y predicciones\n",
    "etiquetas_verdaderas = np.array([0, 1, 1, 0])  # Reemplazado con los datos\n",
    "predicciones = np.array([0, 1, 0, 0])  # Reemplazado con los datos\n",
    "\n",
    "# Crear un DataFrame para facilitar la visualización\n",
    "df_resultados = pd.DataFrame({\n",
    "    'Etiqueta Verdadera': etiquetas_verdaderas,\n",
    "    'Predicción': predicciones\n",
    "})\n",
    "\n",
    "# gráfico de barras comparativo\n",
    "df_resultados.plot(kind='bar', figsize=(10, 6))\n",
    "plt.title('Comparación entre Etiquetas Verdaderas y Predicciones')\n",
    "plt.xlabel('Índice')\n",
    "plt.ylabel('Clase')\n",
    "plt.show()\n"
   ]
  },
  {
   "cell_type": "code",
   "execution_count": 69,
   "id": "084412ce",
   "metadata": {},
   "outputs": [
    {
     "name": "stdout",
     "output_type": "stream",
     "text": [
      "Requirement already satisfied: flask in /opt/anaconda3/lib/python3.11/site-packages (3.0.3)\n",
      "Requirement already satisfied: joblib in /opt/anaconda3/lib/python3.11/site-packages (1.4.2)\n",
      "Requirement already satisfied: Werkzeug>=3.0.0 in /opt/anaconda3/lib/python3.11/site-packages (from flask) (3.0.3)\n",
      "Requirement already satisfied: Jinja2>=3.1.2 in /opt/anaconda3/lib/python3.11/site-packages (from flask) (3.1.4)\n",
      "Requirement already satisfied: itsdangerous>=2.1.2 in /opt/anaconda3/lib/python3.11/site-packages (from flask) (2.2.0)\n",
      "Requirement already satisfied: click>=8.1.3 in /opt/anaconda3/lib/python3.11/site-packages (from flask) (8.1.7)\n",
      "Requirement already satisfied: blinker>=1.6.2 in /opt/anaconda3/lib/python3.11/site-packages (from flask) (1.6.2)\n",
      "Requirement already satisfied: MarkupSafe>=2.0 in /opt/anaconda3/lib/python3.11/site-packages (from Jinja2>=3.1.2->flask) (2.1.3)\n",
      "Note: you may need to restart the kernel to use updated packages.\n"
     ]
    }
   ],
   "source": [
    "pip install flask joblib\n"
   ]
  },
  {
   "cell_type": "code",
   "execution_count": null,
   "id": "a4f8fcdc",
   "metadata": {},
   "outputs": [],
   "source": []
  }
 ],
 "metadata": {
  "colab": {
   "provenance": []
  },
  "kernelspec": {
   "display_name": "Python 3 (ipykernel)",
   "language": "python",
   "name": "python3"
  },
  "language_info": {
   "codemirror_mode": {
    "name": "ipython",
    "version": 3
   },
   "file_extension": ".py",
   "mimetype": "text/x-python",
   "name": "python",
   "nbconvert_exporter": "python",
   "pygments_lexer": "ipython3",
   "version": "3.11.7"
  }
 },
 "nbformat": 4,
 "nbformat_minor": 5
}
